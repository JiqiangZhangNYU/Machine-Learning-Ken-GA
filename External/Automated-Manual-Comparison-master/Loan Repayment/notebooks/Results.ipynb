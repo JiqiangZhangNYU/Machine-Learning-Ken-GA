{
 "cells": [
  {
   "cell_type": "markdown",
   "metadata": {},
   "source": [
    "# Results: Manual vs Automated Feature Engineering\n",
    "\n",
    "In this notebook, we will compare the manual, and fully automated (Featuretools) feature engineering approaches for the Kaggle Home Credit Default Risk competition. For comparison we will focus on time: how long it took to make the features, and performance: the score in cross validation and when submitted to the Kaggle leaderboard. (We also include the features from the Semi-Automated Approach).\n",
    "\n",
    "| Method                                       \t| Total Features  before feature selection \t| Total Features  after feature selection \t| Time Spent (conservative estimate)| CV ROC AUC default model \t| CV ROC AUC  Optimized Model \t| Public Leaderboard ROC AUC optimized model \t|\n",
    "|-----------------------------------------------\t|------------------------------------------\t|-----------------------------------------\t|-------------------------------------------------------------------------------------------------------------------------------------------------------\t|--------------------------\t|-----------------------------\t|--------------------------------------------\t|\n",
    "| Baseline  (Main table after one-hot encoding) \t| 241                                      \t| 202                                     \t| 15 minutes                                                                                                                                            \t| 0.754497 (0.00600176)    \t| 0.759222  (0.00522168)      \t| 0.745                                      \t|\n",
    "| Manual Feature Engineering                    \t| 271 (30 from  manual engineering)        \t| 229 (26 from  manual engineering)       \t| 10 hours                                                                                                                                              \t| 0.772477  (0.00440231)   \t| 0.78036  (0.00449839)       \t| 0.786                                      \t|\n",
    "| Fully Automated                               \t| 2109 (1850 from  featuretools)           \t| 1040 (859 from featuretools)            \t| 1 hour                                                                                                                                                \t| 0.774754 (0.00151319)    \t| 0.782407  (0.00120016)      \t| 0.787                                      \t|\n",
    "| Manual + Semi-Automated                       \t| 1445 (1173 from  semi-auto methods)      \t| 878 (657 from  semi-auto methods)       \t| 20 hours                                                                                                                                              \t| 0.779672 (0.00566087)    \t| 0.788476 (0.00435772)       \t| 0.791                                      \t|\n",
    "\n",
    "  \n",
    "## Explanation of Result Categories\n",
    "   \n",
    "* __Method__: refers to the method used to construct the set of features. The baseline is the main dataframe (`app`) after one-hot encoding categorical variables\n",
    "* __Total Features before feature selection__: the total number of predictor variables after implementing the method. Numbers in parenthesis indicate the features built by the method alone since each method built on the baseline dataframe.\n",
    "* __Total Features after feature selection__: number of features remaining after selection\n",
    "* __Time Spent__: Total time spent creating the set of features including necessary domain understanding and implementing the code. This is a __conservative__ estimate as it does not include the hundreds of hours spent by other data scientists working on the problem.\n",
    "* __CV ROC AUC default model__. The 5-fold cross validation ROC AUC using the default hyperparameter values of the Gradient Boosting Machine (GBM) implemented with the LightGBM library. The number of estimators was found using 100 rounds of early stopping with 5-fold cv. (Number in parenthesis is the standard deviation across five folds).\n",
    "* __CV ROC AUC optimized model__. The 5-fold cross validation ROC AUC using the best hyperparameters from random search for 100 iterations on the respective sample of data. (Number in parenthesis is the standard deviation)\n",
    "* __Public Leaderboard ROC AUC__. The ROC AUC score of dataset from the GBM model when submitted to the public leaderboard on Kaggle. The GBM model used the optimal hyperparameters and early stopping for the number of estimators. Predictions were made on the testing data and then uploaded to Kaggle where the Public Leaderboard is calculated using 10% of the total testing observations. The final leaderboard will be made known at the end of the competition. \n",
    " \n",
    "# Methodology\n",
    "    \n",
    "To assess the features, we want to perform several operations:,\n",
    "    \n",
    "1. Cross Validation (5 folds) ROC AUC with default GBM model in LightGBM library\n",
    "2. Cross Validation (5 folds) ROC AUC with best hyperparameters from 100 iterations of random search on data sample\n",
    "3. Public leaderboard ROC AUC from submitting predictions on testing data to Kaggle\n",
    "4. Feature importances in the trained model\n",
    "\n",
    "These steps are carried out in the `evaluate` function which can be found in the `utils.py` script.\n",
    "\n",
    "## Random Search\n",
    "   \n",
    "The \"optimal\" hyperparameters of the GBM for each dataset were found by applying 100 iterations of random search to a sample of 10% of each set of training data. Performance was measured by the 5-fold cross validation ROC AUC using early stopping to determine the number of estimators to train. The gradient boosting machine was implemented in LightGBM. In addition to testing with the optimal hyperparameter values, we will assess the cross validation using the default hyperparameters to determine the relative effects of hyperparameter tuning versus feature engineering. "
   ]
  },
  {
   "cell_type": "markdown",
   "metadata": {},
   "source": [
    "### Roadmap \n",
    "\n",
    "1. Compare number of features built by each method\n",
    "2. Evaluate each method in turn using the `evaluate` function.\n",
    "3. Summarize results"
   ]
  },
  {
   "cell_type": "code",
   "execution_count": 1,
   "metadata": {},
   "outputs": [
    {
     "name": "stderr",
     "output_type": "stream",
     "text": [
      "/home/ubuntu/anaconda3/lib/python3.6/importlib/_bootstrap.py:219: RuntimeWarning: numpy.dtype size changed, may indicate binary incompatibility. Expected 96, got 88\n",
      "  return f(*args, **kwds)\n",
      "/home/ubuntu/anaconda3/lib/python3.6/importlib/_bootstrap.py:219: RuntimeWarning: numpy.dtype size changed, may indicate binary incompatibility. Expected 96, got 88\n",
      "  return f(*args, **kwds)\n",
      "/home/ubuntu/anaconda3/lib/python3.6/importlib/_bootstrap.py:219: RuntimeWarning: numpy.dtype size changed, may indicate binary incompatibility. Expected 96, got 88\n",
      "  return f(*args, **kwds)\n"
     ]
    }
   ],
   "source": [
    "import pandas as pd\n",
    "import numpy as np\n",
    "\n",
    "import lightgbm as lgb\n",
    "\n",
    "# Evaluating dictionary\n",
    "import ast\n",
    "\n",
    "# Utilities developed in previous notebooks\n",
    "from utils import format_data, plot_feature_importances, evaluate\n",
    "\n",
    "RSEED = 50"
   ]
  },
  {
   "cell_type": "markdown",
   "metadata": {},
   "source": [
    "# Compare Number of Features\n",
    "\n",
    "The first order of business is to compare the number of features created by each method that remain after feature selection. We can do this by loading in the first row of the data and comparing the column names."
   ]
  },
  {
   "cell_type": "code",
   "execution_count": 2,
   "metadata": {},
   "outputs": [],
   "source": [
    "train, test = pd.read_csv('../input/application_train.csv'), pd.read_csv('../input/application_test.csv')\n",
    "test['TARGET'] = np.nan\n",
    "train, test = pd.get_dummies(train).align(pd.get_dummies(test), axis = 1, join = 'inner')\n",
    "\n",
    "original_features = list(train.columns)\n",
    "manual_features = [x for x in pd.read_csv('../input/features_manual_selected.csv', nrows = 1).columns if x not in original_features]\n",
    "auto_features = [x for x in pd.read_csv('../input/feature_matrix_select.csv', nrows = 1).columns if x not in original_features and x not in manual_features]\n",
    "semi_features = [x for x in pd.read_csv('../input/features_semi_selected.csv', nrows = 1).columns if x not in original_features and x not in manual_features]"
   ]
  },
  {
   "cell_type": "code",
   "execution_count": 3,
   "metadata": {},
   "outputs": [
    {
     "name": "stdout",
     "output_type": "stream",
     "text": [
      "There were originally 241 features.\n",
      "26 Manual Features remained after feature selection.\n",
      "859 Automated Features remained after feature selection.\n",
      "657 Semi-Automated Features remained after feature selection.\n"
     ]
    }
   ],
   "source": [
    "print(\"There were originally {} features.\".format(len(original_features) - 2))\n",
    "print(\"{} Manual Features remained after feature selection.\".format(len(manual_features)))\n",
    "print(\"{} Automated Features remained after feature selection.\".format(len(auto_features)))\n",
    "print(\"{} Semi-Automated Features remained after feature selection.\".format(len(semi_features)))"
   ]
  },
  {
   "cell_type": "markdown",
   "metadata": {},
   "source": [
    "This is no contest: automated feature engineering created many more features in about one tenth of the time. Even though all of these features will not be useful, having too many features is a better problem than having too few."
   ]
  },
  {
   "cell_type": "markdown",
   "metadata": {},
   "source": [
    "# Default Features"
   ]
  },
  {
   "cell_type": "code",
   "execution_count": 5,
   "metadata": {},
   "outputs": [
    {
     "name": "stdout",
     "output_type": "stream",
     "text": [
      "Number of features:  203\n"
     ]
    },
    {
     "data": {
      "text/html": [
       "<div>\n",
       "<style scoped>\n",
       "    .dataframe tbody tr th:only-of-type {\n",
       "        vertical-align: middle;\n",
       "    }\n",
       "\n",
       "    .dataframe tbody tr th {\n",
       "        vertical-align: top;\n",
       "    }\n",
       "\n",
       "    .dataframe thead th {\n",
       "        text-align: right;\n",
       "    }\n",
       "</style>\n",
       "<table border=\"1\" class=\"dataframe\">\n",
       "  <thead>\n",
       "    <tr style=\"text-align: right;\">\n",
       "      <th></th>\n",
       "      <th>default_auc</th>\n",
       "      <th>default_auc_std</th>\n",
       "      <th>opt_auc</th>\n",
       "      <th>opt_auc_std</th>\n",
       "      <th>random_search_auc</th>\n",
       "    </tr>\n",
       "  </thead>\n",
       "  <tbody>\n",
       "    <tr>\n",
       "      <th>0</th>\n",
       "      <td>0.754497</td>\n",
       "      <td>0.00600176</td>\n",
       "      <td>0.759222</td>\n",
       "      <td>0.00522168</td>\n",
       "      <td>0.748817</td>\n",
       "    </tr>\n",
       "  </tbody>\n",
       "</table>\n",
       "</div>"
      ],
      "text/plain": [
       "  default_auc default_auc_std   opt_auc opt_auc_std random_search_auc\n",
       "0    0.754497      0.00600176  0.759222  0.00522168          0.748817"
      ]
     },
     "execution_count": 5,
     "metadata": {},
     "output_type": "execute_result"
    }
   ],
   "source": [
    "fm = pd.read_csv('../input/features_default_selected.csv')\n",
    "hyp_results = pd.read_csv('../results/rs_features_default_sample_finished.csv', index_col=0)\n",
    "\n",
    "results, feature_importances, submission = evaluate(fm, hyp_results)\n",
    "results"
   ]
  },
  {
   "cell_type": "code",
   "execution_count": 6,
   "metadata": {},
   "outputs": [
    {
     "data": {
      "text/html": [
       "<div>\n",
       "<style scoped>\n",
       "    .dataframe tbody tr th:only-of-type {\n",
       "        vertical-align: middle;\n",
       "    }\n",
       "\n",
       "    .dataframe tbody tr th {\n",
       "        vertical-align: top;\n",
       "    }\n",
       "\n",
       "    .dataframe thead th {\n",
       "        text-align: right;\n",
       "    }\n",
       "</style>\n",
       "<table border=\"1\" class=\"dataframe\">\n",
       "  <thead>\n",
       "    <tr style=\"text-align: right;\">\n",
       "      <th></th>\n",
       "      <th>feature</th>\n",
       "      <th>importance</th>\n",
       "      <th>importance_normalized</th>\n",
       "      <th>cumulative_importance</th>\n",
       "    </tr>\n",
       "  </thead>\n",
       "  <tbody>\n",
       "    <tr>\n",
       "      <th>0</th>\n",
       "      <td>AMT_GOODS_PRICE</td>\n",
       "      <td>9935</td>\n",
       "      <td>0.058110</td>\n",
       "      <td>0.058110</td>\n",
       "    </tr>\n",
       "    <tr>\n",
       "      <th>1</th>\n",
       "      <td>DAYS_BIRTH</td>\n",
       "      <td>9694</td>\n",
       "      <td>0.056701</td>\n",
       "      <td>0.114811</td>\n",
       "    </tr>\n",
       "    <tr>\n",
       "      <th>2</th>\n",
       "      <td>EXT_SOURCE_1</td>\n",
       "      <td>9053</td>\n",
       "      <td>0.052951</td>\n",
       "      <td>0.167762</td>\n",
       "    </tr>\n",
       "    <tr>\n",
       "      <th>3</th>\n",
       "      <td>AMT_ANNUITY</td>\n",
       "      <td>9046</td>\n",
       "      <td>0.052910</td>\n",
       "      <td>0.220673</td>\n",
       "    </tr>\n",
       "    <tr>\n",
       "      <th>4</th>\n",
       "      <td>EXT_SOURCE_3</td>\n",
       "      <td>8714</td>\n",
       "      <td>0.050969</td>\n",
       "      <td>0.271641</td>\n",
       "    </tr>\n",
       "    <tr>\n",
       "      <th>5</th>\n",
       "      <td>EXT_SOURCE_2</td>\n",
       "      <td>8287</td>\n",
       "      <td>0.048471</td>\n",
       "      <td>0.320113</td>\n",
       "    </tr>\n",
       "    <tr>\n",
       "      <th>6</th>\n",
       "      <td>DAYS_ID_PUBLISH</td>\n",
       "      <td>7830</td>\n",
       "      <td>0.045798</td>\n",
       "      <td>0.365911</td>\n",
       "    </tr>\n",
       "    <tr>\n",
       "      <th>7</th>\n",
       "      <td>DAYS_LAST_PHONE_CHANGE</td>\n",
       "      <td>7766</td>\n",
       "      <td>0.045424</td>\n",
       "      <td>0.411334</td>\n",
       "    </tr>\n",
       "    <tr>\n",
       "      <th>8</th>\n",
       "      <td>DAYS_EMPLOYED</td>\n",
       "      <td>7327</td>\n",
       "      <td>0.042856</td>\n",
       "      <td>0.454190</td>\n",
       "    </tr>\n",
       "    <tr>\n",
       "      <th>9</th>\n",
       "      <td>DAYS_REGISTRATION</td>\n",
       "      <td>6718</td>\n",
       "      <td>0.039294</td>\n",
       "      <td>0.493484</td>\n",
       "    </tr>\n",
       "    <tr>\n",
       "      <th>10</th>\n",
       "      <td>Unnamed: 0</td>\n",
       "      <td>5712</td>\n",
       "      <td>0.033410</td>\n",
       "      <td>0.526894</td>\n",
       "    </tr>\n",
       "    <tr>\n",
       "      <th>11</th>\n",
       "      <td>REGION_POPULATION_RELATIVE</td>\n",
       "      <td>4952</td>\n",
       "      <td>0.028964</td>\n",
       "      <td>0.555858</td>\n",
       "    </tr>\n",
       "    <tr>\n",
       "      <th>12</th>\n",
       "      <td>AMT_INCOME_TOTAL</td>\n",
       "      <td>4576</td>\n",
       "      <td>0.026765</td>\n",
       "      <td>0.582624</td>\n",
       "    </tr>\n",
       "    <tr>\n",
       "      <th>13</th>\n",
       "      <td>OWN_CAR_AGE</td>\n",
       "      <td>3746</td>\n",
       "      <td>0.021911</td>\n",
       "      <td>0.604534</td>\n",
       "    </tr>\n",
       "    <tr>\n",
       "      <th>14</th>\n",
       "      <td>LANDAREA_MODE</td>\n",
       "      <td>3307</td>\n",
       "      <td>0.019343</td>\n",
       "      <td>0.623877</td>\n",
       "    </tr>\n",
       "  </tbody>\n",
       "</table>\n",
       "</div>"
      ],
      "text/plain": [
       "                       feature  importance  importance_normalized  \\\n",
       "0              AMT_GOODS_PRICE        9935               0.058110   \n",
       "1                   DAYS_BIRTH        9694               0.056701   \n",
       "2                 EXT_SOURCE_1        9053               0.052951   \n",
       "3                  AMT_ANNUITY        9046               0.052910   \n",
       "4                 EXT_SOURCE_3        8714               0.050969   \n",
       "5                 EXT_SOURCE_2        8287               0.048471   \n",
       "6              DAYS_ID_PUBLISH        7830               0.045798   \n",
       "7       DAYS_LAST_PHONE_CHANGE        7766               0.045424   \n",
       "8                DAYS_EMPLOYED        7327               0.042856   \n",
       "9            DAYS_REGISTRATION        6718               0.039294   \n",
       "10                  Unnamed: 0        5712               0.033410   \n",
       "11  REGION_POPULATION_RELATIVE        4952               0.028964   \n",
       "12            AMT_INCOME_TOTAL        4576               0.026765   \n",
       "13                 OWN_CAR_AGE        3746               0.021911   \n",
       "14               LANDAREA_MODE        3307               0.019343   \n",
       "\n",
       "    cumulative_importance  \n",
       "0                0.058110  \n",
       "1                0.114811  \n",
       "2                0.167762  \n",
       "3                0.220673  \n",
       "4                0.271641  \n",
       "5                0.320113  \n",
       "6                0.365911  \n",
       "7                0.411334  \n",
       "8                0.454190  \n",
       "9                0.493484  \n",
       "10               0.526894  \n",
       "11               0.555858  \n",
       "12               0.582624  \n",
       "13               0.604534  \n",
       "14               0.623877  "
      ]
     },
     "execution_count": 6,
     "metadata": {},
     "output_type": "execute_result"
    },
    {
     "data": {
      "image/png": "[encoded data removed]",
      "text/plain": [
       "<Figure size 864x576 with 1 Axes>"
      ]
     },
     "metadata": {},
     "output_type": "display_data"
    }
   ],
   "source": [
    "results.to_csv('../results/default_results.csv', index = False)\n",
    "submission.to_csv('../submissions/default_submission.csv', index = False)\n",
    "\n",
    "norm_feature_importances = plot_feature_importances(feature_importances)\n",
    "norm_feature_importances.to_csv('../results/default_fi.csv', index = False)\n",
    "norm_feature_importances.head(15)"
   ]
  },
  {
   "cell_type": "markdown",
   "metadata": {},
   "source": [
    "The default features - base `app` dataframe after one-hot encoding do fairly well by themselves. This says there was already a considerable amount of useful information in the main dataframe."
   ]
  },
  {
   "cell_type": "markdown",
   "metadata": {},
   "source": [
    "This model scores __0.745__ when submitted to the competition. "
   ]
  },
  {
   "cell_type": "markdown",
   "metadata": {},
   "source": [
    "# Manual Engineered Features"
   ]
  },
  {
   "cell_type": "code",
   "execution_count": 7,
   "metadata": {},
   "outputs": [
    {
     "name": "stdout",
     "output_type": "stream",
     "text": [
      "Number of features:  228\n"
     ]
    },
    {
     "data": {
      "text/html": [
       "<div>\n",
       "<style scoped>\n",
       "    .dataframe tbody tr th:only-of-type {\n",
       "        vertical-align: middle;\n",
       "    }\n",
       "\n",
       "    .dataframe tbody tr th {\n",
       "        vertical-align: top;\n",
       "    }\n",
       "\n",
       "    .dataframe thead th {\n",
       "        text-align: right;\n",
       "    }\n",
       "</style>\n",
       "<table border=\"1\" class=\"dataframe\">\n",
       "  <thead>\n",
       "    <tr style=\"text-align: right;\">\n",
       "      <th></th>\n",
       "      <th>default_auc</th>\n",
       "      <th>default_auc_std</th>\n",
       "      <th>opt_auc</th>\n",
       "      <th>opt_auc_std</th>\n",
       "      <th>random_search_auc</th>\n",
       "    </tr>\n",
       "  </thead>\n",
       "  <tbody>\n",
       "    <tr>\n",
       "      <th>0</th>\n",
       "      <td>0.772477</td>\n",
       "      <td>0.00440231</td>\n",
       "      <td>0.78036</td>\n",
       "      <td>0.00449839</td>\n",
       "      <td>0.760968</td>\n",
       "    </tr>\n",
       "  </tbody>\n",
       "</table>\n",
       "</div>"
      ],
      "text/plain": [
       "  default_auc default_auc_std  opt_auc opt_auc_std random_search_auc\n",
       "0    0.772477      0.00440231  0.78036  0.00449839          0.760968"
      ]
     },
     "execution_count": 7,
     "metadata": {},
     "output_type": "execute_result"
    }
   ],
   "source": [
    "fm = pd.read_csv('../input/features_manual_selected.csv')\n",
    "hyp_results = pd.read_csv('../results/rs_features_manual_sample_finished.csv', index_col=0)\n",
    "\n",
    "results, feature_importances, submission = evaluate(fm, hyp_results)\n",
    "results"
   ]
  },
  {
   "cell_type": "markdown",
   "metadata": {},
   "source": [
    "The manual engineered features do considerably better than the baseline features. If we compare the score when submitted to the competition, the manual features do 66% better than the baseline relative to the top score on the leaderboard. This speaks to the importance of proper feature engineering! "
   ]
  },
  {
   "cell_type": "markdown",
   "metadata": {},
   "source": [
    "## Manual Feature Importances"
   ]
  },
  {
   "cell_type": "code",
   "execution_count": 8,
   "metadata": {},
   "outputs": [
    {
     "data": {
      "text/html": [
       "<div>\n",
       "<style scoped>\n",
       "    .dataframe tbody tr th:only-of-type {\n",
       "        vertical-align: middle;\n",
       "    }\n",
       "\n",
       "    .dataframe tbody tr th {\n",
       "        vertical-align: top;\n",
       "    }\n",
       "\n",
       "    .dataframe thead th {\n",
       "        text-align: right;\n",
       "    }\n",
       "</style>\n",
       "<table border=\"1\" class=\"dataframe\">\n",
       "  <thead>\n",
       "    <tr style=\"text-align: right;\">\n",
       "      <th></th>\n",
       "      <th>feature</th>\n",
       "      <th>importance</th>\n",
       "      <th>importance_normalized</th>\n",
       "      <th>cumulative_importance</th>\n",
       "    </tr>\n",
       "  </thead>\n",
       "  <tbody>\n",
       "    <tr>\n",
       "      <th>0</th>\n",
       "      <td>LOAN_RATE</td>\n",
       "      <td>8184</td>\n",
       "      <td>0.058929</td>\n",
       "      <td>0.058929</td>\n",
       "    </tr>\n",
       "    <tr>\n",
       "      <th>1</th>\n",
       "      <td>EXT_SOURCE_3</td>\n",
       "      <td>4680</td>\n",
       "      <td>0.033698</td>\n",
       "      <td>0.092627</td>\n",
       "    </tr>\n",
       "    <tr>\n",
       "      <th>2</th>\n",
       "      <td>DAYS_EMPLOYED</td>\n",
       "      <td>4329</td>\n",
       "      <td>0.031171</td>\n",
       "      <td>0.123798</td>\n",
       "    </tr>\n",
       "    <tr>\n",
       "      <th>3</th>\n",
       "      <td>DAYS_BIRTH</td>\n",
       "      <td>4210</td>\n",
       "      <td>0.030314</td>\n",
       "      <td>0.154111</td>\n",
       "    </tr>\n",
       "    <tr>\n",
       "      <th>4</th>\n",
       "      <td>CASH_AVERAGE_LOAN_LENGTH</td>\n",
       "      <td>4043</td>\n",
       "      <td>0.029111</td>\n",
       "      <td>0.183223</td>\n",
       "    </tr>\n",
       "    <tr>\n",
       "      <th>5</th>\n",
       "      <td>PREVIOUS_LOAN_RATE_MEAN</td>\n",
       "      <td>4021</td>\n",
       "      <td>0.028953</td>\n",
       "      <td>0.212176</td>\n",
       "    </tr>\n",
       "    <tr>\n",
       "      <th>6</th>\n",
       "      <td>PREVIOUS_LOAN_DIFFERENCE_MEAN</td>\n",
       "      <td>3949</td>\n",
       "      <td>0.028435</td>\n",
       "      <td>0.240611</td>\n",
       "    </tr>\n",
       "    <tr>\n",
       "      <th>7</th>\n",
       "      <td>EXT_SOURCE_1</td>\n",
       "      <td>3839</td>\n",
       "      <td>0.027643</td>\n",
       "      <td>0.268253</td>\n",
       "    </tr>\n",
       "    <tr>\n",
       "      <th>8</th>\n",
       "      <td>EXT_SOURCE_MEAN</td>\n",
       "      <td>3814</td>\n",
       "      <td>0.027463</td>\n",
       "      <td>0.295716</td>\n",
       "    </tr>\n",
       "    <tr>\n",
       "      <th>9</th>\n",
       "      <td>PREVIOUS_OTHER_LOAN_SUM</td>\n",
       "      <td>3809</td>\n",
       "      <td>0.027427</td>\n",
       "      <td>0.323142</td>\n",
       "    </tr>\n",
       "    <tr>\n",
       "      <th>10</th>\n",
       "      <td>AMT_ANNUITY</td>\n",
       "      <td>3599</td>\n",
       "      <td>0.025914</td>\n",
       "      <td>0.349057</td>\n",
       "    </tr>\n",
       "    <tr>\n",
       "      <th>11</th>\n",
       "      <td>EXT_SOURCE_2</td>\n",
       "      <td>3586</td>\n",
       "      <td>0.025821</td>\n",
       "      <td>0.374878</td>\n",
       "    </tr>\n",
       "    <tr>\n",
       "      <th>12</th>\n",
       "      <td>DAYS_ID_PUBLISH</td>\n",
       "      <td>3428</td>\n",
       "      <td>0.024683</td>\n",
       "      <td>0.399561</td>\n",
       "    </tr>\n",
       "    <tr>\n",
       "      <th>13</th>\n",
       "      <td>INSTALLMENTS_COUNT</td>\n",
       "      <td>3305</td>\n",
       "      <td>0.023798</td>\n",
       "      <td>0.423358</td>\n",
       "    </tr>\n",
       "    <tr>\n",
       "      <th>14</th>\n",
       "      <td>CASH_COUNTS</td>\n",
       "      <td>3259</td>\n",
       "      <td>0.023466</td>\n",
       "      <td>0.446825</td>\n",
       "    </tr>\n",
       "  </tbody>\n",
       "</table>\n",
       "</div>"
      ],
      "text/plain": [
       "                          feature  importance  importance_normalized  \\\n",
       "0                       LOAN_RATE        8184               0.058929   \n",
       "1                    EXT_SOURCE_3        4680               0.033698   \n",
       "2                   DAYS_EMPLOYED        4329               0.031171   \n",
       "3                      DAYS_BIRTH        4210               0.030314   \n",
       "4        CASH_AVERAGE_LOAN_LENGTH        4043               0.029111   \n",
       "5         PREVIOUS_LOAN_RATE_MEAN        4021               0.028953   \n",
       "6   PREVIOUS_LOAN_DIFFERENCE_MEAN        3949               0.028435   \n",
       "7                    EXT_SOURCE_1        3839               0.027643   \n",
       "8                 EXT_SOURCE_MEAN        3814               0.027463   \n",
       "9         PREVIOUS_OTHER_LOAN_SUM        3809               0.027427   \n",
       "10                    AMT_ANNUITY        3599               0.025914   \n",
       "11                   EXT_SOURCE_2        3586               0.025821   \n",
       "12                DAYS_ID_PUBLISH        3428               0.024683   \n",
       "13             INSTALLMENTS_COUNT        3305               0.023798   \n",
       "14                    CASH_COUNTS        3259               0.023466   \n",
       "\n",
       "    cumulative_importance  \n",
       "0                0.058929  \n",
       "1                0.092627  \n",
       "2                0.123798  \n",
       "3                0.154111  \n",
       "4                0.183223  \n",
       "5                0.212176  \n",
       "6                0.240611  \n",
       "7                0.268253  \n",
       "8                0.295716  \n",
       "9                0.323142  \n",
       "10               0.349057  \n",
       "11               0.374878  \n",
       "12               0.399561  \n",
       "13               0.423358  \n",
       "14               0.446825  "
      ]
     },
     "execution_count": 8,
     "metadata": {},
     "output_type": "execute_result"
    },
    {
     "data": {
      "image/png": "[encoded data removed]",
      "text/plain": [
       "<Figure size 864x576 with 1 Axes>"
      ]
     },
     "metadata": {},
     "output_type": "display_data"
    }
   ],
   "source": [
    "results.to_csv('../results/manual_results.csv', index = False)\n",
    "submission.to_csv('../submissions/manual_submission.csv', index = False)\n",
    "\n",
    "norm_feature_importances = plot_feature_importances(feature_importances)\n",
    "norm_feature_importances.to_csv('../results/manual_fi.csv', index = False)\n",
    "norm_feature_importances.head(15)"
   ]
  },
  {
   "cell_type": "markdown",
   "metadata": {},
   "source": [
    "The most important feature, `LOAN_RATE`, was one of those that we made by hand. We also created several of the other most important features indicating that all of our time was not spent in vain on feature engineering."
   ]
  },
  {
   "cell_type": "markdown",
   "metadata": {},
   "source": [
    "These predictions score __0.786__ on the leaderboard when submitted."
   ]
  },
  {
   "cell_type": "markdown",
   "metadata": {},
   "source": [
    "# Automated Features Using Featuretools"
   ]
  },
  {
   "cell_type": "code",
   "execution_count": 9,
   "metadata": {},
   "outputs": [
    {
     "name": "stdout",
     "output_type": "stream",
     "text": [
      "Number of features:  1040\n"
     ]
    },
    {
     "data": {
      "text/html": [
       "<div>\n",
       "<style scoped>\n",
       "    .dataframe tbody tr th:only-of-type {\n",
       "        vertical-align: middle;\n",
       "    }\n",
       "\n",
       "    .dataframe tbody tr th {\n",
       "        vertical-align: top;\n",
       "    }\n",
       "\n",
       "    .dataframe thead th {\n",
       "        text-align: right;\n",
       "    }\n",
       "</style>\n",
       "<table border=\"1\" class=\"dataframe\">\n",
       "  <thead>\n",
       "    <tr style=\"text-align: right;\">\n",
       "      <th></th>\n",
       "      <th>default_auc</th>\n",
       "      <th>default_auc_std</th>\n",
       "      <th>opt_auc</th>\n",
       "      <th>opt_auc_std</th>\n",
       "      <th>random_search_auc</th>\n",
       "    </tr>\n",
       "  </thead>\n",
       "  <tbody>\n",
       "    <tr>\n",
       "      <th>0</th>\n",
       "      <td>0.774754</td>\n",
       "      <td>0.00151319</td>\n",
       "      <td>0.782407</td>\n",
       "      <td>0.00120016</td>\n",
       "      <td>0.765772</td>\n",
       "    </tr>\n",
       "  </tbody>\n",
       "</table>\n",
       "</div>"
      ],
      "text/plain": [
       "  default_auc default_auc_std   opt_auc opt_auc_std random_search_auc\n",
       "0    0.774754      0.00151319  0.782407  0.00120016          0.765772"
      ]
     },
     "execution_count": 9,
     "metadata": {},
     "output_type": "execute_result"
    }
   ],
   "source": [
    "fm = pd.read_csv('../input/feature_matrix_selected.csv')\n",
    "hyp_results = pd.read_csv('../results/rs_feature_matrix_sample_finished.csv', index_col=0)\n",
    "\n",
    "results, feature_importances, submission = evaluate(fm, hyp_results)\n",
    "results"
   ]
  },
  {
   "cell_type": "markdown",
   "metadata": {},
   "source": [
    "The automated engineered features outperform the manual features both in terms of cross-validation on the training data and when submitted to the competition. The score is 67% higher than the baseline measured relative to the top leaderboard score (as of this writing). We can also see that model hyperparameter tuning does affect the final performance to a small degree, considerably less than feature engineering."
   ]
  },
  {
   "cell_type": "markdown",
   "metadata": {},
   "source": [
    "## Automated Feature Importances"
   ]
  },
  {
   "cell_type": "code",
   "execution_count": 10,
   "metadata": {},
   "outputs": [
    {
     "data": {
      "text/html": [
       "<div>\n",
       "<style scoped>\n",
       "    .dataframe tbody tr th:only-of-type {\n",
       "        vertical-align: middle;\n",
       "    }\n",
       "\n",
       "    .dataframe tbody tr th {\n",
       "        vertical-align: top;\n",
       "    }\n",
       "\n",
       "    .dataframe thead th {\n",
       "        text-align: right;\n",
       "    }\n",
       "</style>\n",
       "<table border=\"1\" class=\"dataframe\">\n",
       "  <thead>\n",
       "    <tr style=\"text-align: right;\">\n",
       "      <th></th>\n",
       "      <th>feature</th>\n",
       "      <th>importance</th>\n",
       "      <th>importance_normalized</th>\n",
       "      <th>cumulative_importance</th>\n",
       "    </tr>\n",
       "  </thead>\n",
       "  <tbody>\n",
       "    <tr>\n",
       "      <th>0</th>\n",
       "      <td>PERCENTILE(EXT_SOURCE_2)</td>\n",
       "      <td>1470</td>\n",
       "      <td>0.014791</td>\n",
       "      <td>0.014791</td>\n",
       "    </tr>\n",
       "    <tr>\n",
       "      <th>1</th>\n",
       "      <td>PERCENTILE(EXT_SOURCE_1)</td>\n",
       "      <td>1460</td>\n",
       "      <td>0.014690</td>\n",
       "      <td>0.029481</td>\n",
       "    </tr>\n",
       "    <tr>\n",
       "      <th>2</th>\n",
       "      <td>PERCENTILE(EXT_SOURCE_3)</td>\n",
       "      <td>1381</td>\n",
       "      <td>0.013895</td>\n",
       "      <td>0.043377</td>\n",
       "    </tr>\n",
       "    <tr>\n",
       "      <th>3</th>\n",
       "      <td>DAYS_BIRTH</td>\n",
       "      <td>1155</td>\n",
       "      <td>0.011621</td>\n",
       "      <td>0.054998</td>\n",
       "    </tr>\n",
       "    <tr>\n",
       "      <th>4</th>\n",
       "      <td>PERCENTILE(AMT_GOODS_PRICE)</td>\n",
       "      <td>1085</td>\n",
       "      <td>0.010917</td>\n",
       "      <td>0.065915</td>\n",
       "    </tr>\n",
       "    <tr>\n",
       "      <th>5</th>\n",
       "      <td>PERCENTILE(AMT_ANNUITY)</td>\n",
       "      <td>908</td>\n",
       "      <td>0.009136</td>\n",
       "      <td>0.075052</td>\n",
       "    </tr>\n",
       "    <tr>\n",
       "      <th>6</th>\n",
       "      <td>DAYS_EMPLOYED</td>\n",
       "      <td>816</td>\n",
       "      <td>0.008210</td>\n",
       "      <td>0.083262</td>\n",
       "    </tr>\n",
       "    <tr>\n",
       "      <th>7</th>\n",
       "      <td>AMT_GOODS_PRICE</td>\n",
       "      <td>812</td>\n",
       "      <td>0.008170</td>\n",
       "      <td>0.091432</td>\n",
       "    </tr>\n",
       "    <tr>\n",
       "      <th>8</th>\n",
       "      <td>AMT_ANNUITY</td>\n",
       "      <td>809</td>\n",
       "      <td>0.008140</td>\n",
       "      <td>0.099572</td>\n",
       "    </tr>\n",
       "    <tr>\n",
       "      <th>9</th>\n",
       "      <td>DAYS_ID_PUBLISH</td>\n",
       "      <td>781</td>\n",
       "      <td>0.007858</td>\n",
       "      <td>0.107431</td>\n",
       "    </tr>\n",
       "    <tr>\n",
       "      <th>10</th>\n",
       "      <td>PERCENTILE(DAYS_EMPLOYED)</td>\n",
       "      <td>775</td>\n",
       "      <td>0.007798</td>\n",
       "      <td>0.115229</td>\n",
       "    </tr>\n",
       "    <tr>\n",
       "      <th>11</th>\n",
       "      <td>MEAN(previous.MIN(installments.AMT_PAYMENT))</td>\n",
       "      <td>741</td>\n",
       "      <td>0.007456</td>\n",
       "      <td>0.122685</td>\n",
       "    </tr>\n",
       "    <tr>\n",
       "      <th>12</th>\n",
       "      <td>DAYS_REGISTRATION</td>\n",
       "      <td>656</td>\n",
       "      <td>0.006601</td>\n",
       "      <td>0.129285</td>\n",
       "    </tr>\n",
       "    <tr>\n",
       "      <th>13</th>\n",
       "      <td>DAYS_LAST_PHONE_CHANGE</td>\n",
       "      <td>648</td>\n",
       "      <td>0.006520</td>\n",
       "      <td>0.135805</td>\n",
       "    </tr>\n",
       "    <tr>\n",
       "      <th>14</th>\n",
       "      <td>PERCENTILE(OWN_CAR_AGE)</td>\n",
       "      <td>606</td>\n",
       "      <td>0.006097</td>\n",
       "      <td>0.141903</td>\n",
       "    </tr>\n",
       "  </tbody>\n",
       "</table>\n",
       "</div>"
      ],
      "text/plain": [
       "                                         feature  importance  \\\n",
       "0                       PERCENTILE(EXT_SOURCE_2)        1470   \n",
       "1                       PERCENTILE(EXT_SOURCE_1)        1460   \n",
       "2                       PERCENTILE(EXT_SOURCE_3)        1381   \n",
       "3                                     DAYS_BIRTH        1155   \n",
       "4                    PERCENTILE(AMT_GOODS_PRICE)        1085   \n",
       "5                        PERCENTILE(AMT_ANNUITY)         908   \n",
       "6                                  DAYS_EMPLOYED         816   \n",
       "7                                AMT_GOODS_PRICE         812   \n",
       "8                                    AMT_ANNUITY         809   \n",
       "9                                DAYS_ID_PUBLISH         781   \n",
       "10                     PERCENTILE(DAYS_EMPLOYED)         775   \n",
       "11  MEAN(previous.MIN(installments.AMT_PAYMENT))         741   \n",
       "12                             DAYS_REGISTRATION         656   \n",
       "13                        DAYS_LAST_PHONE_CHANGE         648   \n",
       "14                       PERCENTILE(OWN_CAR_AGE)         606   \n",
       "\n",
       "    importance_normalized  cumulative_importance  \n",
       "0                0.014791               0.014791  \n",
       "1                0.014690               0.029481  \n",
       "2                0.013895               0.043377  \n",
       "3                0.011621               0.054998  \n",
       "4                0.010917               0.065915  \n",
       "5                0.009136               0.075052  \n",
       "6                0.008210               0.083262  \n",
       "7                0.008170               0.091432  \n",
       "8                0.008140               0.099572  \n",
       "9                0.007858               0.107431  \n",
       "10               0.007798               0.115229  \n",
       "11               0.007456               0.122685  \n",
       "12               0.006601               0.129285  \n",
       "13               0.006520               0.135805  \n",
       "14               0.006097               0.141903  "
      ]
     },
     "execution_count": 10,
     "metadata": {},
     "output_type": "execute_result"
    },
    {
     "data": {
      "image/png": "[encoded data removed]",
      "text/plain": [
       "<Figure size 864x576 with 1 Axes>"
      ]
     },
     "metadata": {},
     "output_type": "display_data"
    }
   ],
   "source": [
    "results.to_csv('../results/auto_results.csv', index = False)\n",
    "submission.to_csv('../submissions/auto_submission.csv', index = False)\n",
    "\n",
    "norm_feature_importances = plot_feature_importances(feature_importances)\n",
    "norm_feature_importances.to_csv('../results/auto_fi.csv', index = False)\n",
    "norm_feature_importances.head(15)"
   ]
  },
  {
   "cell_type": "markdown",
   "metadata": {},
   "source": [
    "Many of the most important features were ones created by Featuretools. Moreover, one of the features has a depth of 2, and might not even be a feature we would consider building by hand. While automated feature engineering did not create all of the same features as manual for this problem (we could have by using a `divide` transformation primitive), it still created an extremely useful set that overall resulted in a better predictive model."
   ]
  },
  {
   "cell_type": "markdown",
   "metadata": {},
   "source": [
    "These features score __0.787__ when submitted."
   ]
  },
  {
   "cell_type": "markdown",
   "metadata": {},
   "source": [
    "# Semi-Automated Features"
   ]
  },
  {
   "cell_type": "markdown",
   "metadata": {},
   "source": [
    "The semi-automated features were built in the Semi Automated Notebook. This is a more efficient approach than manual feature engineering, but raises the question of why not go fully-automated? The semi automated approach basically was an implementation of Featuretools that took about 10 times as long! These features were combined with the manual features (since once we have those we might as well use them)."
   ]
  },
  {
   "cell_type": "code",
   "execution_count": 11,
   "metadata": {},
   "outputs": [
    {
     "name": "stdout",
     "output_type": "stream",
     "text": [
      "Number of features:  878\n"
     ]
    },
    {
     "data": {
      "text/html": [
       "<div>\n",
       "<style scoped>\n",
       "    .dataframe tbody tr th:only-of-type {\n",
       "        vertical-align: middle;\n",
       "    }\n",
       "\n",
       "    .dataframe tbody tr th {\n",
       "        vertical-align: top;\n",
       "    }\n",
       "\n",
       "    .dataframe thead th {\n",
       "        text-align: right;\n",
       "    }\n",
       "</style>\n",
       "<table border=\"1\" class=\"dataframe\">\n",
       "  <thead>\n",
       "    <tr style=\"text-align: right;\">\n",
       "      <th></th>\n",
       "      <th>default_auc</th>\n",
       "      <th>default_auc_std</th>\n",
       "      <th>opt_auc</th>\n",
       "      <th>opt_auc_std</th>\n",
       "      <th>random_search_auc</th>\n",
       "    </tr>\n",
       "  </thead>\n",
       "  <tbody>\n",
       "    <tr>\n",
       "      <th>0</th>\n",
       "      <td>0.779672</td>\n",
       "      <td>0.00566087</td>\n",
       "      <td>0.788476</td>\n",
       "      <td>0.00435772</td>\n",
       "      <td>0.775374</td>\n",
       "    </tr>\n",
       "  </tbody>\n",
       "</table>\n",
       "</div>"
      ],
      "text/plain": [
       "  default_auc default_auc_std   opt_auc opt_auc_std random_search_auc\n",
       "0    0.779672      0.00566087  0.788476  0.00435772          0.775374"
      ]
     },
     "execution_count": 11,
     "metadata": {},
     "output_type": "execute_result"
    }
   ],
   "source": [
    "fm = pd.read_csv('../input/features_semi_selected.csv')\n",
    "hyp_results = pd.read_csv('../results/rs_features_semi_sample_finished.csv', index_col=0)\n",
    "\n",
    "results, feature_importances, submission = evaluate(fm, hyp_results)\n",
    "results"
   ]
  },
  {
   "cell_type": "markdown",
   "metadata": {},
   "source": [
    "## Semi-Automated Feature Importances"
   ]
  },
  {
   "cell_type": "code",
   "execution_count": 12,
   "metadata": {},
   "outputs": [
    {
     "data": {
      "text/html": [
       "<div>\n",
       "<style scoped>\n",
       "    .dataframe tbody tr th:only-of-type {\n",
       "        vertical-align: middle;\n",
       "    }\n",
       "\n",
       "    .dataframe tbody tr th {\n",
       "        vertical-align: top;\n",
       "    }\n",
       "\n",
       "    .dataframe thead th {\n",
       "        text-align: right;\n",
       "    }\n",
       "</style>\n",
       "<table border=\"1\" class=\"dataframe\">\n",
       "  <thead>\n",
       "    <tr style=\"text-align: right;\">\n",
       "      <th></th>\n",
       "      <th>feature</th>\n",
       "      <th>importance</th>\n",
       "      <th>importance_normalized</th>\n",
       "      <th>cumulative_importance</th>\n",
       "    </tr>\n",
       "  </thead>\n",
       "  <tbody>\n",
       "    <tr>\n",
       "      <th>0</th>\n",
       "      <td>LOAN_RATE</td>\n",
       "      <td>1915</td>\n",
       "      <td>0.026934</td>\n",
       "      <td>0.026934</td>\n",
       "    </tr>\n",
       "    <tr>\n",
       "      <th>1</th>\n",
       "      <td>DAYS_BIRTH</td>\n",
       "      <td>1117</td>\n",
       "      <td>0.015710</td>\n",
       "      <td>0.042644</td>\n",
       "    </tr>\n",
       "    <tr>\n",
       "      <th>2</th>\n",
       "      <td>EXT_SOURCE_MEAN</td>\n",
       "      <td>1047</td>\n",
       "      <td>0.014726</td>\n",
       "      <td>0.057370</td>\n",
       "    </tr>\n",
       "    <tr>\n",
       "      <th>3</th>\n",
       "      <td>EXT_SOURCE_3</td>\n",
       "      <td>1042</td>\n",
       "      <td>0.014655</td>\n",
       "      <td>0.072025</td>\n",
       "    </tr>\n",
       "    <tr>\n",
       "      <th>4</th>\n",
       "      <td>DAYS_EMPLOYED</td>\n",
       "      <td>1003</td>\n",
       "      <td>0.014107</td>\n",
       "      <td>0.086132</td>\n",
       "    </tr>\n",
       "    <tr>\n",
       "      <th>5</th>\n",
       "      <td>AMT_ANNUITY</td>\n",
       "      <td>980</td>\n",
       "      <td>0.013783</td>\n",
       "      <td>0.099916</td>\n",
       "    </tr>\n",
       "    <tr>\n",
       "      <th>6</th>\n",
       "      <td>EXT_SOURCE_1</td>\n",
       "      <td>887</td>\n",
       "      <td>0.012475</td>\n",
       "      <td>0.112391</td>\n",
       "    </tr>\n",
       "    <tr>\n",
       "      <th>7</th>\n",
       "      <td>EXT_SOURCE_2</td>\n",
       "      <td>867</td>\n",
       "      <td>0.012194</td>\n",
       "      <td>0.124585</td>\n",
       "    </tr>\n",
       "    <tr>\n",
       "      <th>8</th>\n",
       "      <td>AMT_GOODS_PRICE</td>\n",
       "      <td>760</td>\n",
       "      <td>0.010689</td>\n",
       "      <td>0.135274</td>\n",
       "    </tr>\n",
       "    <tr>\n",
       "      <th>9</th>\n",
       "      <td>BUREAU_DAYS_CREDIT_max</td>\n",
       "      <td>751</td>\n",
       "      <td>0.010563</td>\n",
       "      <td>0.145837</td>\n",
       "    </tr>\n",
       "    <tr>\n",
       "      <th>10</th>\n",
       "      <td>EXT_SOURCE_SUM</td>\n",
       "      <td>699</td>\n",
       "      <td>0.009831</td>\n",
       "      <td>0.155668</td>\n",
       "    </tr>\n",
       "    <tr>\n",
       "      <th>11</th>\n",
       "      <td>DAYS_ID_PUBLISH</td>\n",
       "      <td>695</td>\n",
       "      <td>0.009775</td>\n",
       "      <td>0.165443</td>\n",
       "    </tr>\n",
       "    <tr>\n",
       "      <th>12</th>\n",
       "      <td>CREDIT_INCOME_RATIO</td>\n",
       "      <td>687</td>\n",
       "      <td>0.009662</td>\n",
       "      <td>0.175105</td>\n",
       "    </tr>\n",
       "    <tr>\n",
       "      <th>13</th>\n",
       "      <td>BUREAU_DAYS_ENDDATE_FACT_max</td>\n",
       "      <td>644</td>\n",
       "      <td>0.009058</td>\n",
       "      <td>0.184163</td>\n",
       "    </tr>\n",
       "    <tr>\n",
       "      <th>14</th>\n",
       "      <td>BUREAU_DAYS_CREDIT_ENDDATE_max</td>\n",
       "      <td>625</td>\n",
       "      <td>0.008790</td>\n",
       "      <td>0.192954</td>\n",
       "    </tr>\n",
       "  </tbody>\n",
       "</table>\n",
       "</div>"
      ],
      "text/plain": [
       "                           feature  importance  importance_normalized  \\\n",
       "0                        LOAN_RATE        1915               0.026934   \n",
       "1                       DAYS_BIRTH        1117               0.015710   \n",
       "2                  EXT_SOURCE_MEAN        1047               0.014726   \n",
       "3                     EXT_SOURCE_3        1042               0.014655   \n",
       "4                    DAYS_EMPLOYED        1003               0.014107   \n",
       "5                      AMT_ANNUITY         980               0.013783   \n",
       "6                     EXT_SOURCE_1         887               0.012475   \n",
       "7                     EXT_SOURCE_2         867               0.012194   \n",
       "8                  AMT_GOODS_PRICE         760               0.010689   \n",
       "9           BUREAU_DAYS_CREDIT_max         751               0.010563   \n",
       "10                  EXT_SOURCE_SUM         699               0.009831   \n",
       "11                 DAYS_ID_PUBLISH         695               0.009775   \n",
       "12             CREDIT_INCOME_RATIO         687               0.009662   \n",
       "13    BUREAU_DAYS_ENDDATE_FACT_max         644               0.009058   \n",
       "14  BUREAU_DAYS_CREDIT_ENDDATE_max         625               0.008790   \n",
       "\n",
       "    cumulative_importance  \n",
       "0                0.026934  \n",
       "1                0.042644  \n",
       "2                0.057370  \n",
       "3                0.072025  \n",
       "4                0.086132  \n",
       "5                0.099916  \n",
       "6                0.112391  \n",
       "7                0.124585  \n",
       "8                0.135274  \n",
       "9                0.145837  \n",
       "10               0.155668  \n",
       "11               0.165443  \n",
       "12               0.175105  \n",
       "13               0.184163  \n",
       "14               0.192954  "
      ]
     },
     "execution_count": 12,
     "metadata": {},
     "output_type": "execute_result"
    },
    {
     "data": {
      "image/png": "[encoded data removed]",
      "text/plain": [
       "<Figure size 864x576 with 1 Axes>"
      ]
     },
     "metadata": {},
     "output_type": "display_data"
    }
   ],
   "source": [
    "results.to_csv('../results/semi_results.csv', index = False)\n",
    "submission.to_csv('../submissions/semi_submission.csv', index = False)\n",
    "\n",
    "norm_feature_importances = plot_feature_importances(feature_importances)\n",
    "norm_feature_importances.to_csv('../results/semi_fi.csv', index = False)\n",
    "norm_feature_importances.head(15)"
   ]
  },
  {
   "cell_type": "markdown",
   "metadata": {},
   "source": [
    "Some of the semi-automated features (those ending in `max` or `mean`) are among the most important. The most important feature is still that made from manual feature engineering. Overall, the performance of this dataset was slightly better than either manual or fully automated but came at the greatest overall time investment (20 hours). At a certain point, accuracy becomes less important than interpretability."
   ]
  },
  {
   "cell_type": "markdown",
   "metadata": {},
   "source": [
    "This dataset scores __0.791__ when submitted to the competition."
   ]
  },
  {
   "cell_type": "markdown",
   "metadata": {},
   "source": [
    "# Combine Manual and Automated Feature Matrices\n",
    "\n",
    "As an interesting experiment, we can combine the manual and automated engineering features and see what the results are. As long as the features do not exactly overlap, we should expect the model to perform better because either of the datasets on their own do better than the baseline. However, it could be possible that all the features in the manual engineering features are recreated in the automated feature engineering matrix."
   ]
  },
  {
   "cell_type": "code",
   "execution_count": 13,
   "metadata": {},
   "outputs": [
    {
     "data": {
      "text/plain": [
       "(356255, 1091)"
      ]
     },
     "execution_count": 13,
     "metadata": {},
     "output_type": "execute_result"
    }
   ],
   "source": [
    "fm_manual = pd.read_csv('../input/features_manual_selected.csv')\n",
    "fm_auto = pd.read_csv('../input/feature_matrix_selected.csv')\n",
    "fm_auto = fm_auto[[x for x in fm_auto if x not in fm_manual]]\n",
    "fm = pd.concat([fm_manual, fm_auto], axis = 1)\n",
    "fm.shape"
   ]
  },
  {
   "cell_type": "code",
   "execution_count": 14,
   "metadata": {},
   "outputs": [
    {
     "name": "stdout",
     "output_type": "stream",
     "text": [
      "Number of features:  1089\n"
     ]
    },
    {
     "data": {
      "text/html": [
       "<div>\n",
       "<style scoped>\n",
       "    .dataframe tbody tr th:only-of-type {\n",
       "        vertical-align: middle;\n",
       "    }\n",
       "\n",
       "    .dataframe tbody tr th {\n",
       "        vertical-align: top;\n",
       "    }\n",
       "\n",
       "    .dataframe thead th {\n",
       "        text-align: right;\n",
       "    }\n",
       "</style>\n",
       "<table border=\"1\" class=\"dataframe\">\n",
       "  <thead>\n",
       "    <tr style=\"text-align: right;\">\n",
       "      <th></th>\n",
       "      <th>default_auc</th>\n",
       "      <th>default_auc_std</th>\n",
       "      <th>opt_auc</th>\n",
       "      <th>opt_auc_std</th>\n",
       "      <th>random_search_auc</th>\n",
       "    </tr>\n",
       "  </thead>\n",
       "  <tbody>\n",
       "    <tr>\n",
       "      <th>0</th>\n",
       "      <td>0.769057</td>\n",
       "      <td>0.00506485</td>\n",
       "      <td>0.77465</td>\n",
       "      <td>0.00456319</td>\n",
       "      <td>0.765772</td>\n",
       "    </tr>\n",
       "  </tbody>\n",
       "</table>\n",
       "</div>"
      ],
      "text/plain": [
       "  default_auc default_auc_std  opt_auc opt_auc_std random_search_auc\n",
       "0    0.769057      0.00506485  0.77465  0.00456319          0.765772"
      ]
     },
     "execution_count": 14,
     "metadata": {},
     "output_type": "execute_result"
    }
   ],
   "source": [
    "hyp_results = pd.read_csv('../results/rs_feature_matrix_sample_finished.csv', index_col=0)\n",
    "\n",
    "results, feature_importances, submission = evaluate(fm, hyp_results)\n",
    "results"
   ]
  },
  {
   "cell_type": "code",
   "execution_count": 15,
   "metadata": {},
   "outputs": [],
   "source": [
    "submission.to_csv('../submissions/combined_submission.csv', index = False)"
   ]
  },
  {
   "cell_type": "markdown",
   "metadata": {},
   "source": [
    "The combined data does not do as well as either of the datasets by themselves. This could be because there is an overlap between the features that leads to more useful features being hidden behind less useful features. We also are using the best hyperparameters from the automated feature matrix which do not necessarily translate to the best hyperparameters for this new dataset. It's possible that these features would be better after feature selection or after model hyperparameter tuning using random search on this data."
   ]
  },
  {
   "cell_type": "markdown",
   "metadata": {},
   "source": [
    "# Conclusions\n",
    "\n",
    "With the results presented below, this project is now complete. What we have learned is that with only a few minutes of programming, Featuretools is able to get us to a level comparable with dozens of hours of manual feature engineering on a real-world data science problem.\n",
    "\n",
    "| Dataset                                       \t| Total Features  before feature selection \t| Total Features  after feature selection \t| Time Spent  (conservative  estimate) \t| CV ROC AUC default model \t| CV ROC AUC  Optimized Model \t| Public Leaderboard ROC AUC optimized model \t|\n",
    "|-----------------------------------------------\t|------------------------------------------\t|-----------------------------------------\t|--------------------------------------\t|--------------------------\t|-----------------------------\t|--------------------------------------------\t|\n",
    "| Baseline  (Main table after one-hot encoding) \t| 241                                      \t| 203                                     \t| 15 minutes                           \t| 0.754497 (0.00600176)    \t| 0.759222  (0.00522168)      \t| 0.745                                      \t|\n",
    "| Manual Feature Engineering                    \t| 271 (30 from  manual engineering)        \t| 231 (26 from  manual engineering)       \t| 10 hours                             \t| 0.772477  (0.00440231)   \t| 0.78036  (0.00449839)       \t| 0.786                                      \t|\n",
    "| Fully Automated                               \t| 2091 (1850 from  featuretools)           \t| 1042 (859 from featuretools)            \t| 1 hour                               \t| 0.774754 (0.00151319)    \t| 0.782407  (0.00120016)      \t| 0.787\n",
    "            |\n",
    "| Manual + Semi-Automated                       \t| 1444 (1173 from  semi-auto methods)      \t| 880 (657 from  semi-auto methods)       \t| 20 hours                             \t| 0.779672 (0.00566087)    \t| 0.788476 (0.00435772)       \t| 0.791                                      \t|\n",
    "                                      \t\n",
    "The takeaways from this project are:\n",
    "\n",
    "* Automated feature engineering with Featuretools is able to achieve results comparable or better than manual feature engineering with a 10x gain in speed\n",
    "* Feature engineering undoubtedly adds value to the problem and is a necessity in a data science pipeline\n",
    "* Model hyperparameter tuning has an appreciable affect on performance although less than feature engineering\n",
    "* The code we wrote for Featuretools is broadly applicable to any data science problem while the manual feature engineering code is problem specific\n",
    "* Automated feature engineering should be a standard part of the machine learning pipeline because it is able to increase efficiency while delivering performance exceeding that of manual approaches\n",
    "\n",
    "__Feature engineering is a must for any data science problem and although manual feature engineering does work, if there is a more efficient method to get the same or better results, then it's only logical to use that method!__ Overall, automated feature engineering with Featuretools reduced development time by at least 10x, delivered the same performance, and also created interpretable features that we would not have thought of ourselves. Moreover, as can be seen in the other projects, the same Featuretools code can be applied to other datasets with only minor modifications. __Automated feature engineering will be a standard part of the machine learning pipeline, enabling better predictive models with a smaller time investment.__"
   ]
  },
  {
   "cell_type": "code",
   "execution_count": null,
   "metadata": {},
   "outputs": [],
   "source": []
  }
 ],
 "metadata": {
  "kernelspec": {
   "display_name": "Python 3",
   "language": "python",
   "name": "python3"
  },
  "language_info": {
   "codemirror_mode": {
    "name": "ipython",
    "version": 3
   },
   "file_extension": ".py",
   "mimetype": "text/x-python",
   "name": "python",
   "nbconvert_exporter": "python",
   "pygments_lexer": "ipython3",
   "version": "3.6.7"
  },
  "toc": {
   "base_numbering": 1,
   "nav_menu": {},
   "number_sections": true,
   "sideBar": true,
   "skip_h1_title": false,
   "title_cell": "Table of Contents",
   "title_sidebar": "Contents",
   "toc_cell": false,
   "toc_position": {},
   "toc_section_display": true,
   "toc_window_display": false
  }
 },
 "nbformat": 4,
 "nbformat_minor": 2
}
