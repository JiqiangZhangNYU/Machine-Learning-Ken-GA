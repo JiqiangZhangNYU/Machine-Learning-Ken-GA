{
 "cells": [
  {
   "cell_type": "markdown",
   "metadata": {},
   "source": [
    "# Proper style \n",
    "\n",
    "When building a notebook you might find the need to reference other files\n",
    "- data files\n",
    "- files that you use to move code out of your notebook\n",
    "\n",
    "The proper way to reference files is via *relative* path names, not *absolute* path names.\n",
    "- The current working directory can be referened with a single dot: \".\"\n",
    "    - On your machine \".\" might be equivalent to `R:/user/ken/ML_Course/Assignment_1`\n",
    "    - On the GA's machine, \".\" might be equivalent to `/home/GA/Students/Ken`\n",
    "- The *absolute* path name for a file is a path from the root of the file systems to a file\n",
    "    - e.g., `R:/user/ken/ML_Course/Assignment_1`\n",
    "- The problem with absolute path names for files is that this complete path *probably doesn't exist* on anyone elses machine\n",
    "    - So if your notebook references a file `R:/user/ken/ML_Course/Assignment_1/Data/stock.csv` *it will not run on the GA's machine*\n",
    "- You can reference the same file by a path name that is *relative* to the current directory\n",
    "    - `./Data/stock.csv`\n",
    "    - That is because \".\" on your machine refers to `R:/user/ken/ML_Course/Assignment_1`\n",
    "- But this also means that if the GA copies your entire directory (which you may submit) to a machine where \".\" means `/home/GA/Students/Ken`\n",
    "    - `./Data/stock.csv` will lead to `/home/GA/Students/Ken/Data/stock.csv`\n",
    "    \n",
    "**Bottom line** Never submit assignments that use *absolute* paths to files or directories\n",
    "- Always use relative paths\n",
    "- If you use an absolute path, your assignment submission won't run on the GA's machine\n",
    "- This applies to references\n",
    "    - to data files\n",
    "    - to directories\n",
    "    - to modules\n",
    "        - e.g., the Python `import` statement implicitly references a path\n"
   ]
  },
  {
   "cell_type": "markdown",
   "metadata": {},
   "source": [
    "# Submitting your assignment\n",
    "\n",
    "1. Please zip your files before submission. \n",
    "    - named it as HW[#]_(Net ID).zip.\n",
    "    - Do NOT use .rar, .7z, etc.\n",
    "\n",
    "\n",
    "2. Only two kinds of files are necessary to be included in the zip file.\n",
    "    - (a) external files such as \"Data\" folder, you can add your own data here \n",
    "    - (b) jupyter notebook file\n",
    "    - The name of your notebook should be Assignment_[#].ipynb\n",
    "\n",
    "\n",
    "3. Examples for Homework 1 submission.\n",
    "    - HW1_jz3293.zip\n",
    "        - Data (folder)\n",
    "        - Assignment_1.ipynb\n",
    "\n",
    "\n",
    "4. Please print out the answers for each question in your notebook. \n",
    "    - Add some explanations if your idea is not obvious.\n",
    "\n",
    "\n",
    "5. Failed to follow the instruction would influence your grading.\n",
    "\n",
    "\n",
    "6. Instructions for term project submission might be different."
   ]
  }
 ],
 "metadata": {
  "kernelspec": {
   "display_name": "Python 3",
   "language": "python",
   "name": "python3"
  },
  "language_info": {
   "codemirror_mode": {
    "name": "ipython",
    "version": 3
   },
   "file_extension": ".py",
   "mimetype": "text/x-python",
   "name": "python",
   "nbconvert_exporter": "python",
   "pygments_lexer": "ipython3",
   "version": "3.6.8"
  },
  "toc": {
   "base_numbering": 1,
   "nav_menu": {},
   "number_sections": true,
   "sideBar": true,
   "skip_h1_title": false,
   "title_cell": "Table of Contents",
   "title_sidebar": "Contents",
   "toc_cell": false,
   "toc_position": {},
   "toc_section_display": true,
   "toc_window_display": false
  }
 },
 "nbformat": 4,
 "nbformat_minor": 2
}
