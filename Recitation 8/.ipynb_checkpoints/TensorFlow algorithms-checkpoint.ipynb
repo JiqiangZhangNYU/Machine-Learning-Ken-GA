{
 "cells": [
  {
   "cell_type": "markdown",
   "metadata": {},
   "source": [
    "## Tensorflow introduction -- Linear Regression "
   ]
  },
  {
   "cell_type": "code",
   "execution_count": 2,
   "metadata": {},
   "outputs": [],
   "source": [
    "import tensorflow as tf\n",
    "import pandas as pd \n",
    "import numpy as np \n",
    "import matplotlib\n",
    "import matplotlib.pyplot as plt\n",
    "%matplotlib inline"
   ]
  },
  {
   "cell_type": "code",
   "execution_count": 3,
   "metadata": {},
   "outputs": [
    {
     "data": {
      "text/plain": [
       "<matplotlib.collections.PathCollection at 0x1f9554e0>"
      ]
     },
     "execution_count": 3,
     "metadata": {},
     "output_type": "execute_result"
    },
    {
     "data": {
      "image/png": "[encoded data removed]",
      "text/plain": [
       "<Figure size 432x288 with 1 Axes>"
      ]
     },
     "metadata": {
      "needs_background": "light"
     },
     "output_type": "display_data"
    }
   ],
   "source": [
    "#generate dataset\n",
    "num_samples,w,b=20,0.5,2\n",
    "xs=np.asarray(range(num_samples))\n",
    "ys=np.asarray([x*w+b+np.random.normal() for x in range(num_samples)])\n",
    "plt.scatter(xs,ys)"
   ]
  },
  {
   "cell_type": "code",
   "execution_count": 4,
   "metadata": {},
   "outputs": [],
   "source": [
    "#create a linear model\n",
    "class Linear(object):\n",
    "    def __init__(self):\n",
    "        self.w=tf.get_variable('w',dtype=tf.float32,shape=[],initializer=tf.zeros_initializer())\n",
    "        self.b=tf.get_variable('b',dtype=tf.float32,shape=[],initializer=tf.zeros_initializer())\n",
    "    def __call__(self,x):\n",
    "        return self.w*x+self.b\n",
    "    "
   ]
  },
  {
   "cell_type": "code",
   "execution_count": 5,
   "metadata": {},
   "outputs": [],
   "source": [
    "#define the solver for linear regression\n",
    "xtf=tf.placeholder(tf.float32,[num_samples],'xs')\n",
    "ytf=tf.placeholder(tf.float32,[num_samples],'ys')\n",
    "model=Linear()\n",
    "model_output=model(xtf)\n",
    "\n",
    "cov=tf.reduce_sum((xtf-tf.reduce_mean(xtf))*(ytf-tf.reduce_mean(ytf)))\n",
    "var=tf.reduce_sum(tf.square(xtf-tf.reduce_mean(xtf)))\n",
    "w_hat=cov/var\n",
    "b_hat=tf.reduce_mean(ytf)-w_hat*tf.reduce_mean(xtf)\n",
    "\n",
    "solve_w=model.w.assign(w_hat)\n",
    "solve_b=model.b.assign(b_hat)"
   ]
  },
  {
   "cell_type": "code",
   "execution_count": 6,
   "metadata": {},
   "outputs": [
    {
     "name": "stdout",
     "output_type": "stream",
     "text": [
      "INFO:tensorflow:Graph was finalized.\n",
      "INFO:tensorflow:Running local_init_op.\n",
      "INFO:tensorflow:Done running local_init_op.\n"
     ]
    },
    {
     "data": {
      "text/plain": [
       "[<matplotlib.lines.Line2D at 0x20a3ff28>]"
      ]
     },
     "execution_count": 6,
     "metadata": {},
     "output_type": "execute_result"
    },
    {
     "data": {
      "image/png": "[encoded data removed]",
      "text/plain": [
       "<Figure size 432x288 with 1 Axes>"
      ]
     },
     "metadata": {
      "needs_background": "light"
     },
     "output_type": "display_data"
    }
   ],
   "source": [
    "with tf.train.MonitoredSession() as sess:\n",
    "    sess.run([solve_w,solve_b],feed_dict={xtf:xs,ytf:ys})\n",
    "    preds=sess.run(model_output, feed_dict={xtf:xs,ytf:ys})\n",
    "\n",
    "plt.scatter(xs,ys)\n",
    "plt.plot(xs,preds)"
   ]
  },
  {
   "cell_type": "code",
   "execution_count": 7,
   "metadata": {},
   "outputs": [],
   "source": [
    "# gradient descent solver\n",
    "loss=tf.losses.mean_squared_error(ytf,model_output)\n",
    "grads=tf.gradients(loss,[model.w,model.b])\n",
    "update_w=tf.assign(model.w,model.w-grads[0]*0.001)\n",
    "update_b=tf.assign(model.b,model.b-grads[1]*0.001)\n",
    "update=tf.group(update_w,update_b)"
   ]
  },
  {
   "cell_type": "code",
   "execution_count": null,
   "metadata": {},
   "outputs": [],
   "source": []
  },
  {
   "cell_type": "markdown",
   "metadata": {},
   "source": [
    "# Build a basic network"
   ]
  },
  {
   "cell_type": "markdown",
   "metadata": {},
   "source": [
    "1.Draw computation graph 画计算图\n",
    "\n",
    "2.initialize input and weights matrix structure 初始化输入和权重矩阵结构 \n",
    "\n",
    "3.define a forward propagation process 定义前向传播过程 \n",
    "\n",
    "4.define loss function and backward propagation 定义损失函数及后向传播过程 \n",
    "\n",
    "5.set start values for all variables 给所有变量赋初值 \n",
    "\n",
    "6.build a session and run 生成会话，训练模型"
   ]
  },
  {
   "cell_type": "markdown",
   "metadata": {},
   "source": [
    "## forward propagation"
   ]
  },
  {
   "cell_type": "code",
   "execution_count": 8,
   "metadata": {},
   "outputs": [
    {
     "name": "stdout",
     "output_type": "stream",
     "text": [
      "[[3.0904665]]\n"
     ]
    }
   ],
   "source": [
    "x=tf.constant([[0.7,0.5]])\n",
    "w1=tf.Variable(tf.random_normal([2,3],stddev=1,seed=1))\n",
    "w2=tf.Variable(tf.random_normal([3,1],stddev=1,seed=1))\n",
    "\n",
    "a=tf.matmul(x,w1)\n",
    "y=tf.matmul(a,w2)\n",
    "\n",
    "with tf.Session() as sess:\n",
    "    init_op=tf.global_variables_initializer()\n",
    "    sess.run(init_op)\n",
    "    print(sess.run(y))"
   ]
  },
  {
   "cell_type": "code",
   "execution_count": 9,
   "metadata": {},
   "outputs": [
    {
     "name": "stdout",
     "output_type": "stream",
     "text": [
      "[[3.0904665]\n",
      " [1.2236414]]\n",
      "[[-0.8113182   1.4845988   0.06532937]\n",
      " [-2.4427042   0.0992484   0.5912243 ]]\n"
     ]
    }
   ],
   "source": [
    "#sess.run() feed data, placeholder define the format\n",
    "x=tf.placeholder(tf.float32,shape=(None,2))        # None means any rows\n",
    "w1=tf.Variable(tf.random_normal([2,3],stddev=1,seed=1))\n",
    "w2=tf.Variable(tf.random_normal([3,1],stddev=1,seed=1))\n",
    "\n",
    "a=tf.matmul(x,w1)\n",
    "y=tf.matmul(a,w2)\n",
    "\n",
    "with tf.Session() as sess:\n",
    "    init_op=tf.global_variables_initializer()\n",
    "    sess.run(init_op)\n",
    "    print(sess.run(y,feed_dict={x:[[0.7,0.5],[0.2,0.3]]}))\n",
    "    print(sess.run(w1))"
   ]
  },
  {
   "cell_type": "markdown",
   "metadata": {},
   "source": [
    "## backward propagation"
   ]
  },
  {
   "cell_type": "markdown",
   "metadata": {},
   "source": [
    "reduce loss as the target\n",
    "\n",
    "$$loss=tf.reduce\\_mean(tf.square(y\\_-y))$$\n",
    "\n",
    "$$train\\_step=tf.train.AdamOptimizer(learning\\_rate).minimize(loss)$$"
   ]
  },
  {
   "cell_type": "code",
   "execution_count": 10,
   "metadata": {},
   "outputs": [
    {
     "name": "stdout",
     "output_type": "stream",
     "text": [
      "[[1], [1], [0], [0], [0], [1], [0], [0], [0], [0], [0], [0], [1], [1], [0], [0], [0], [0], [0], [1], [0], [0], [0], [1], [0], [1], [1], [0], [1], [1], [1], [0]]\n"
     ]
    }
   ],
   "source": [
    "seed=50\n",
    "STEPS=3000\n",
    "BATCH=100\n",
    "rng=np.random.RandomState(seed)\n",
    "X=rng.rand(32,2)\n",
    "# target\n",
    "Y=[[int(x0+x1<1)] for (x0,x1) in X]\n",
    "print(Y)"
   ]
  },
  {
   "cell_type": "code",
   "execution_count": 11,
   "metadata": {},
   "outputs": [
    {
     "name": "stdout",
     "output_type": "stream",
     "text": [
      "After 0 training steps, loss is 6.8253\n",
      "After 500 training steps, loss is 0.366733\n",
      "After 1000 training steps, loss is 0.339729\n",
      "After 1500 training steps, loss is 0.331238\n",
      "After 2000 training steps, loss is 0.326969\n",
      "After 2500 training steps, loss is 0.323645\n",
      "\n",
      " [[-0.6859016   0.8034872   0.09599794]\n",
      " [-2.3436713  -0.12719154  0.58733255]] \n",
      " [[-0.01478495]\n",
      " [ 0.8070384 ]\n",
      " [-0.0692187 ]] \n",
      "\n"
     ]
    }
   ],
   "source": [
    "x=tf.placeholder(tf.float32,shape=(None,2))        \n",
    "y_=tf.placeholder(tf.float32,shape=(None,1))\n",
    "\n",
    "w1=tf.Variable(tf.random_normal([2,3],stddev=1,seed=1))\n",
    "w2=tf.Variable(tf.random_normal([3,1],stddev=1,seed=1))\n",
    "\n",
    "a=tf.matmul(x,w1)\n",
    "y=tf.matmul(a,w2)\n",
    "\n",
    "loss=tf.reduce_mean(tf.square(y-y_))\n",
    "\n",
    "train_step=tf.train.GradientDescentOptimizer(0.001).minimize(loss)\n",
    "\n",
    "with tf.Session() as sess:\n",
    "    init_op=tf.global_variables_initializer()\n",
    "    sess.run(init_op)\n",
    "    \n",
    "    for i in range(STEPS):\n",
    "        start=(i*BATCH)%32\n",
    "        end=start+BATCH\n",
    "        # batch means the size\n",
    "        sess.run(train_step,feed_dict={x:X[start:end],y_:Y[start:end]})\n",
    "        # output loss to record the process\n",
    "        if i% 500==0:\n",
    "            total_loss=sess.run(loss,feed_dict={x:X,y_:Y})\n",
    "            print(\"After %d training steps, loss is %g\"% (i,total_loss))\n",
    "            \n",
    "    print('\\n',sess.run(w1),'\\n',sess.run(w2),'\\n')"
   ]
  },
  {
   "cell_type": "markdown",
   "metadata": {},
   "source": [
    "# parameter selection"
   ]
  },
  {
   "cell_type": "markdown",
   "metadata": {},
   "source": [
    "parameter amount: if adjacent layers have m, n nodes, parameters should be m*n+n"
   ]
  },
  {
   "cell_type": "markdown",
   "metadata": {},
   "source": [
    "## loss function"
   ]
  },
  {
   "cell_type": "markdown",
   "metadata": {},
   "source": [
    "self-defined loss： \n",
    "$$ loss(y,y\\_)=\\sum_n f(y,y\\_) $$\n",
    "\n",
    "\n",
    "$$f(y,y\\_)=\n",
    "\\begin{cases}\n",
    "PROFIT*(y\\_-y), & y<y\\_,\\\\\n",
    "COST*(y-y\\_), & y>=y\\_\n",
    "\\end{cases}$$"
   ]
  },
  {
   "cell_type": "code",
   "execution_count": 12,
   "metadata": {},
   "outputs": [],
   "source": [
    "#eg: loss for merchants\n",
    "COST=4\n",
    "PROFIT=5\n",
    "loss=tf.reduce_sum(tf.where(tf.greater(y,y_),(y-y_)*COST,(y_-y)*PROFIT))"
   ]
  },
  {
   "cell_type": "markdown",
   "metadata": {
    "collapsed": true
   },
   "source": [
    "cross entropy:\n",
    "\n",
    "$$H(y\\_,y)=-\\sum y\\_*\\log y$$"
   ]
  },
  {
   "cell_type": "code",
   "execution_count": 13,
   "metadata": {},
   "outputs": [],
   "source": [
    "#tf.clip_by_value, limit value interval\n",
    "ce=-tf.reduce_mean(y_*tf.log(tf.clip_by_value(y,1e-12,1.0)))"
   ]
  },
  {
   "cell_type": "markdown",
   "metadata": {},
   "source": [
    "softmax function:\n",
    "$$softmax(y_i)=\\frac{e^{y_i}}{\\sum_{j=1}^n e^{y_j}}$$"
   ]
  },
  {
   "cell_type": "code",
   "execution_count": 14,
   "metadata": {},
   "outputs": [],
   "source": [
    "# labels=tf.argmax(y_,1)  find the class with the largest probability\n",
    "ce=tf.nn.sparse_softmax_cross_entropy_with_logits(logits=y,labels=tf.argmax(y_,1))\n",
    "loss=tf.reduce_mean(ce)"
   ]
  },
  {
   "cell_type": "markdown",
   "metadata": {},
   "source": [
    "## learning rate"
   ]
  },
  {
   "cell_type": "code",
   "execution_count": 16,
   "metadata": {},
   "outputs": [
    {
     "name": "stdout",
     "output_type": "stream",
     "text": [
      "After 0 steps 3.8    23.04\n",
      "After 1 steps 2.84    14.7456\n",
      "After 2 steps 2.072    9.437184\n",
      "After 3 steps 1.4576    6.0397983\n",
      "After 4 steps 0.96607995    3.8654704\n",
      "After 5 steps 0.57286394    2.473901\n",
      "After 6 steps 0.25829116    1.5832965\n",
      "After 7 steps 0.006632924    1.0133098\n",
      "After 8 steps -0.19469367    0.64851826\n",
      "After 9 steps -0.35575494    0.41505167\n",
      "After 10 steps -0.48460394    0.2656331\n",
      "After 11 steps -0.58768314    0.17000519\n",
      "After 12 steps -0.6701465    0.10880332\n",
      "After 13 steps -0.73611724    0.06963411\n",
      "After 14 steps -0.7888938    0.04456582\n",
      "After 15 steps -0.83111507    0.02852212\n",
      "After 16 steps -0.86489207    0.018254153\n",
      "After 17 steps -0.89191365    0.011682658\n",
      "After 18 steps -0.91353095    0.0074768974\n",
      "After 19 steps -0.93082476    0.004785214\n"
     ]
    }
   ],
   "source": [
    "w=tf.Variable(tf.constant(5,dtype=tf.float32))\n",
    "loss=tf.square(w+1)\n",
    "\n",
    "learning_rate=0.1\n",
    "train_step=tf.train.GradientDescentOptimizer(learning_rate).minimize(loss)\n",
    "\n",
    "with tf.Session() as sess:\n",
    "    init_op=tf.global_variables_initializer()\n",
    "    sess.run(init_op)\n",
    "    \n",
    "    for i in range(20):\n",
    "        sess.run(train_step)\n",
    "        print(\"After %d steps\"%i, sess.run(w), \"  \", sess.run(loss))"
   ]
  },
  {
   "cell_type": "markdown",
   "metadata": {},
   "source": [
    "exponential decay learning rate:\n",
    "\n",
    "$$learningRate=learningRateBase*learningRateDecay^{\\frac{globalStep}{learningRateStep}}$$"
   ]
  },
  {
   "cell_type": "code",
   "execution_count": 17,
   "metadata": {},
   "outputs": [
    {
     "name": "stdout",
     "output_type": "stream",
     "text": [
      "After 0 steps 0.099    3.8    23.04\n",
      "After 1 steps 0.09801    2.8495998    14.819419\n",
      "After 2 steps 0.0970299    2.0950012    9.579033\n",
      "After 3 steps 0.096059605    1.494386    6.2219615\n",
      "After 4 steps 0.09509901    1.0151665    4.060896\n",
      "After 5 steps 0.094148025    0.6318858    2.6630511\n",
      "After 6 steps 0.09320655    0.32460818    1.7545869\n",
      "After 7 steps 0.09227448    0.077683866    1.1614027\n",
      "After 8 steps 0.09135174    -0.121201575    0.77228665\n",
      "After 9 steps 0.09043822    -0.2817611    0.5158671\n",
      "After 10 steps 0.089533836    -0.4116736    0.34612796\n",
      "After 11 steps 0.0886385    -0.51702386    0.23326595\n",
      "After 12 steps 0.08775212    -0.60264444    0.15789144\n",
      "After 13 steps 0.0868746    -0.672382    0.107333556\n",
      "After 14 steps 0.08600585    -0.7293054    0.07327557\n",
      "After 15 steps 0.085145794    -0.77586806    0.050235126\n",
      "After 16 steps 0.084294334    -0.81403583    0.03458267\n",
      "After 17 steps 0.08345139    -0.8453873    0.023905093\n",
      "After 18 steps 0.08261688    -0.8711926    0.016591353\n",
      "After 19 steps 0.08179071    -0.8924759    0.011561431\n"
     ]
    }
   ],
   "source": [
    "learning_rate_base=0.1\n",
    "learning_rate_decay=0.99\n",
    "learning_rate_step=1  # after this number of rounds of batch，update learning rate, generally =sample_size/batch_size\n",
    "global_step=tf.Variable(0,trainable=False)\n",
    "learning_rate=tf.train.exponential_decay(learning_rate_base,global_step,learning_rate_step,learning_rate_decay,staircase=True)\n",
    "\n",
    "w=tf.Variable(tf.constant(5,dtype=tf.float32))\n",
    "loss=tf.square(w+1)\n",
    "train_step=tf.train.GradientDescentOptimizer(learning_rate).minimize(loss,global_step=global_step)\n",
    "\n",
    "with tf.Session() as sess:\n",
    "    init_op=tf.global_variables_initializer()\n",
    "    sess.run(init_op)\n",
    "    \n",
    "    for i in range(20):\n",
    "        sess.run(train_step)\n",
    "        learn_val=sess.run(learning_rate)\n",
    "        #globalstep_val=sess.run(global_step)\n",
    "        print(\"After %d steps\"%i, learn_val, \"  \", sess.run(w), \"  \", sess.run(loss))"
   ]
  },
  {
   "cell_type": "markdown",
   "metadata": {},
   "source": [
    "## moving average"
   ]
  },
  {
   "cell_type": "markdown",
   "metadata": {
    "collapsed": true
   },
   "source": [
    "moving average（shadow）change all parameters\n",
    "\n",
    "shadow= shadow\\*decay_rate+（1-decay_rate）\\*parameter\n",
    "\n",
    "shadow initial value= parameter initial value\n",
    "\n",
    "decay_rate= min{moving_average_decay,(1+ rounds)/(10+ rounds)}"
   ]
  },
  {
   "cell_type": "code",
   "execution_count": 18,
   "metadata": {},
   "outputs": [
    {
     "name": "stdout",
     "output_type": "stream",
     "text": [
      "[10.0, 0.0]\n",
      "[10.0, 0.81818163]\n",
      "[10.0, 1.569421]\n",
      "[10.0, 2.2591956]\n"
     ]
    }
   ],
   "source": [
    "w1=tf.Variable(0,dtype=tf.float32)\n",
    "global_step=tf.Variable(0,trainable=False)\n",
    "moving_average_decay=0.99\n",
    "ema=tf.train.ExponentialMovingAverage(moving_average_decay,global_step)\n",
    "ema_op=ema.apply(tf.trainable_variables())\n",
    "\n",
    "with tf.Session() as sess:\n",
    "    init_op=tf.global_variables_initializer()\n",
    "    sess.run(init_op)\n",
    "    sess.run(tf.assign(w1,10))\n",
    "    print(sess.run([w1,ema.average(w1)]))\n",
    "    \n",
    "    sess.run(tf.assign(global_step,100))   \n",
    "    sess.run(ema_op)\n",
    "    print(sess.run([w1,ema.average(w1)]))\n",
    "    sess.run(ema_op)\n",
    "    print(sess.run([w1,ema.average(w1)]))\n",
    "    sess.run(ema_op)\n",
    "    print(sess.run([w1,ema.average(w1)]))"
   ]
  },
  {
   "cell_type": "code",
   "execution_count": 19,
   "metadata": {},
   "outputs": [
    {
     "name": "stdout",
     "output_type": "stream",
     "text": [
      "0.8181818181818179\n",
      "1.5694214876033052\n",
      "2.259196093163035\n",
      "2.8925345946315137\n",
      "3.47405449143439\n"
     ]
    }
   ],
   "source": [
    "shadow=0\n",
    "decay=min(0.99,101/110)\n",
    "for i in range(5):\n",
    "    shadow=shadow*decay+(1-decay)*10\n",
    "    print(shadow)"
   ]
  },
  {
   "cell_type": "markdown",
   "metadata": {},
   "source": [
    "## Regularizer"
   ]
  },
  {
   "cell_type": "markdown",
   "metadata": {
    "collapsed": true
   },
   "source": [
    "loss_mse=tf.reduce\\_mean(tf.square(y-y_))\n",
    "\n",
    "loss_total=loss_mse+tf.add_n(tf.get_collection('losses'))"
   ]
  },
  {
   "cell_type": "code",
   "execution_count": null,
   "metadata": {},
   "outputs": [],
   "source": []
  }
 ],
 "metadata": {
  "kernelspec": {
   "display_name": "Python 3",
   "language": "python",
   "name": "python3"
  },
  "language_info": {
   "codemirror_mode": {
    "name": "ipython",
    "version": 3
   },
   "file_extension": ".py",
   "mimetype": "text/x-python",
   "name": "python",
   "nbconvert_exporter": "python",
   "pygments_lexer": "ipython3",
   "version": "3.6.7"
  },
  "toc": {
   "base_numbering": 1,
   "nav_menu": {},
   "number_sections": true,
   "sideBar": true,
   "skip_h1_title": false,
   "title_cell": "Table of Contents",
   "title_sidebar": "Contents",
   "toc_cell": false,
   "toc_position": {
    "height": "calc(100% - 180px)",
    "left": "10px",
    "top": "150px",
    "width": "255px"
   },
   "toc_section_display": true,
   "toc_window_display": false
  }
 },
 "nbformat": 4,
 "nbformat_minor": 2
}
