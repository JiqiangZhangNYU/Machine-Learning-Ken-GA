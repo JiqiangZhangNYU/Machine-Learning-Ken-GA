{
 "cells": [
  {
   "cell_type": "markdown",
   "metadata": {},
   "source": [
    "# Random Forest and Gradient Boosting parameters "
   ]
  },
  {
   "cell_type": "markdown",
   "metadata": {},
   "source": [
    "For Random Forest\n",
    "\n",
    "1.increasing n_estimators can decrease model variance with no effect on sub models. More estimators will improve accuracy with upper limit.\n",
    "\n",
    "2.criterion like gini and cross entropy has different influence on different data.\n",
    "\n",
    "3.max_leaf_nodes and max_depth can roughly adjust the tree structures. More leaf nodes and larger tree depth will cause lower bias and higher variance.\n",
    "\n",
    "4.min_samples_split, min_samples_leaf and min_weight_fraction_leaf can meticulously adjust the tree structures. \n",
    "\n",
    "5.max_features increase randomness for the model and decrease correlation among features."
   ]
  },
  {
   "cell_type": "markdown",
   "metadata": {},
   "source": [
    " "
   ]
  },
  {
   "cell_type": "markdown",
   "metadata": {},
   "source": [
    "For Gradient Tree Boosting\n",
    "\n",
    "1.n_estimators and learning_rate jointly affect gradient descent path, so they should be tuned together to improve model accuracy.\n",
    "\n",
    "2.For a specific tree, Gradient Boosting is the same as Random Forest. (max_leaf_nodes, max_depth, etc.)\n",
    "\n",
    "3.max_features and subsample influence the randomness of the model and correlation among sub-models."
   ]
  },
  {
   "cell_type": "markdown",
   "metadata": {},
   "source": [
    "# Random Forest example"
   ]
  },
  {
   "cell_type": "markdown",
   "metadata": {},
   "source": [
    "We can use Digit Recognizer Competition dataset on Kaggle. The process for tuning parameters using RandomForestClassifier is shown below. The method is coordinate descent which means tuning one parameter each time. "
   ]
  },
  {
   "cell_type": "markdown",
   "metadata": {},
   "source": [
    "Coordinate descent for parameter tuning:\n",
    "\n",
    "1. n_estimators: range(10,201,10)\n",
    "\n",
    "2. set n_estimators=200, criterion: gini or entropy\n",
    "\n",
    "3. set criterion=gini, max_feature: range(20,50), default value is auto=sqrt(feature number)\n",
    "\n",
    "4. max_depth: range(10,100,10)\n",
    "\n",
    "5. min_samples_split: range(2,11)\n",
    "\n",
    "6. min_samples_leaf: range(1,10)\n",
    "\n",
    "7. max_leaf_nodes: range(2500,3500,100)"
   ]
  },
  {
   "cell_type": "markdown",
   "metadata": {},
   "source": [
    "# Gradient Boosting example "
   ]
  },
  {
   "cell_type": "markdown",
   "metadata": {},
   "source": [
    "## Load Data"
   ]
  },
  {
   "cell_type": "markdown",
   "metadata": {},
   "source": [
    "We will take the dataset from Data Hackathon 3.x AV hackathon. The details of the problem can be found on the competition page. I have performed the following steps:\n",
    "\n",
    "1. City variable dropped because of too many categories\n",
    "2. DOB converted to Age | DOB dropped\n",
    "3. EMI_Loan_Submitted_Missing created which is 1 if EMI_Loan_Submitted was missing else 0 | Original variable EMI_Loan_Submitted dropped\n",
    "4. EmployerName dropped because of too many categories\n",
    "5. Existing_EMI imputed with 0 (median) since only 111 values were missing\n",
    "6. Interest_Rate_Missing created which is 1 if Interest_Rate was missing else 0 | Original variable Interest_Rate dropped\n",
    "7. Lead_Creation_Date dropped because made little intuitive impact on outcome\n",
    "8. Loan_Amount_Applied, Loan_Tenure_Applied imputed with median values\n",
    "9. Loan_Amount_Submitted_Missing created which is 1 if Loan_Amount_Submitted was missing else 0 | Original variable Loan_Amount_Submitted dropped\n",
    "10. Loan_Tenure_Submitted_Missing created which is 1 if Loan_Tenure_Submitted was missing else 0 | Original variable Loan_Tenure_Submitted dropped\n",
    "11. LoggedIn, Salary_Account dropped\n",
    "12. Processing_Fee_Missing created which is 1 if Processing_Fee was missing else 0 | Original variable Processing_Fee dropped\n",
    "13. Source – top 2 kept as is and all others combined into different category\n",
    "14. Numerical and One-Hot-Coding performed"
   ]
  },
  {
   "cell_type": "code",
   "execution_count": 102,
   "metadata": {},
   "outputs": [],
   "source": [
    "#Import libraries:\n",
    "import pandas as pd\n",
    "import numpy as np\n",
    "from sklearn.ensemble import GradientBoostingClassifier  #GBM algorithm\n",
    "from sklearn import  metrics   #Additional scklearn functions\n",
    "from sklearn.model_selection import GridSearchCV,cross_val_score\n",
    "\n",
    "import matplotlib.pylab as plt\n",
    "%matplotlib inline\n",
    "from matplotlib.pylab import rcParams\n",
    "rcParams['figure.figsize'] = 12, 4"
   ]
  },
  {
   "cell_type": "code",
   "execution_count": 92,
   "metadata": {},
   "outputs": [],
   "source": [
    "target = 'Disbursed'\n",
    "IDcol = 'id'\n",
    "\n",
    "train = pd.read_csv('train_modified.csv')\n",
    "test = pd.read_csv('test_modified.csv')"
   ]
  },
  {
   "cell_type": "code",
   "execution_count": 94,
   "metadata": {},
   "outputs": [
    {
     "data": {
      "text/plain": [
       "((87020, 56), (37717, 55))"
      ]
     },
     "execution_count": 94,
     "metadata": {},
     "output_type": "execute_result"
    }
   ],
   "source": [
    "train.shape, test.shape"
   ]
  },
  {
   "cell_type": "code",
   "execution_count": 95,
   "metadata": {
    "scrolled": false
   },
   "outputs": [
    {
     "data": {
      "text/plain": [
       "0.0    85746\n",
       "1.0     1273\n",
       "Name: Disbursed, dtype: int64"
      ]
     },
     "execution_count": 95,
     "metadata": {},
     "output_type": "execute_result"
    }
   ],
   "source": [
    "train['Disbursed'].value_counts()"
   ]
  },
  {
   "cell_type": "code",
   "execution_count": 99,
   "metadata": {},
   "outputs": [],
   "source": [
    "for i,ele in enumerate(train['Var5']):\n",
    "    if ele=='HBXX':\n",
    "        train['Var5'].iloc[i]=0\n",
    "train=train.fillna(0)"
   ]
  },
  {
   "cell_type": "code",
   "execution_count": 105,
   "metadata": {},
   "outputs": [
    {
     "data": {
      "text/html": [
       "<div>\n",
       "<style scoped>\n",
       "    .dataframe tbody tr th:only-of-type {\n",
       "        vertical-align: middle;\n",
       "    }\n",
       "\n",
       "    .dataframe tbody tr th {\n",
       "        vertical-align: top;\n",
       "    }\n",
       "\n",
       "    .dataframe thead th {\n",
       "        text-align: right;\n",
       "    }\n",
       "</style>\n",
       "<table border=\"1\" class=\"dataframe\">\n",
       "  <thead>\n",
       "    <tr style=\"text-align: right;\">\n",
       "      <th></th>\n",
       "      <th>Disbursed</th>\n",
       "      <th>Existing_EMI</th>\n",
       "      <th>Loan_Amount_Applied</th>\n",
       "      <th>Loan_Tenure_Applied</th>\n",
       "      <th>Monthly_Income</th>\n",
       "      <th>Var4</th>\n",
       "      <th>Var5</th>\n",
       "      <th>id</th>\n",
       "      <th>Age</th>\n",
       "      <th>EMI_Loan_Submitted_Missing</th>\n",
       "      <th>...</th>\n",
       "      <th>Var2_4</th>\n",
       "      <th>Var2_5</th>\n",
       "      <th>Var2_6</th>\n",
       "      <th>Var2_7</th>\n",
       "      <th>Mobile_Verified_0</th>\n",
       "      <th>Mobile_Verified_1</th>\n",
       "      <th>Mobile_Verified_2</th>\n",
       "      <th>Source_0</th>\n",
       "      <th>Source_1</th>\n",
       "      <th>Source_2</th>\n",
       "    </tr>\n",
       "  </thead>\n",
       "  <tbody>\n",
       "    <tr>\n",
       "      <td>0</td>\n",
       "      <td>0.0</td>\n",
       "      <td>0.0</td>\n",
       "      <td>300000.0</td>\n",
       "      <td>5.0</td>\n",
       "      <td>20000</td>\n",
       "      <td>1</td>\n",
       "      <td>0</td>\n",
       "      <td>ID000002C20</td>\n",
       "      <td>37</td>\n",
       "      <td>1</td>\n",
       "      <td>...</td>\n",
       "      <td>0</td>\n",
       "      <td>0</td>\n",
       "      <td>1</td>\n",
       "      <td>0</td>\n",
       "      <td>0</td>\n",
       "      <td>1</td>\n",
       "      <td>0</td>\n",
       "      <td>1</td>\n",
       "      <td>0</td>\n",
       "      <td>0</td>\n",
       "    </tr>\n",
       "    <tr>\n",
       "      <td>1</td>\n",
       "      <td>0.0</td>\n",
       "      <td>0.0</td>\n",
       "      <td>200000.0</td>\n",
       "      <td>2.0</td>\n",
       "      <td>35000</td>\n",
       "      <td>3</td>\n",
       "      <td>13</td>\n",
       "      <td>ID000004E40</td>\n",
       "      <td>30</td>\n",
       "      <td>0</td>\n",
       "      <td>...</td>\n",
       "      <td>0</td>\n",
       "      <td>0</td>\n",
       "      <td>1</td>\n",
       "      <td>0</td>\n",
       "      <td>0</td>\n",
       "      <td>0</td>\n",
       "      <td>1</td>\n",
       "      <td>1</td>\n",
       "      <td>0</td>\n",
       "      <td>0</td>\n",
       "    </tr>\n",
       "    <tr>\n",
       "      <td>2</td>\n",
       "      <td>0.0</td>\n",
       "      <td>0.0</td>\n",
       "      <td>600000.0</td>\n",
       "      <td>4.0</td>\n",
       "      <td>22500</td>\n",
       "      <td>1</td>\n",
       "      <td>0</td>\n",
       "      <td>ID000007H20</td>\n",
       "      <td>34</td>\n",
       "      <td>1</td>\n",
       "      <td>...</td>\n",
       "      <td>0</td>\n",
       "      <td>0</td>\n",
       "      <td>0</td>\n",
       "      <td>0</td>\n",
       "      <td>0</td>\n",
       "      <td>0</td>\n",
       "      <td>1</td>\n",
       "      <td>0</td>\n",
       "      <td>0</td>\n",
       "      <td>1</td>\n",
       "    </tr>\n",
       "    <tr>\n",
       "      <td>3</td>\n",
       "      <td>0.0</td>\n",
       "      <td>0.0</td>\n",
       "      <td>1000000.0</td>\n",
       "      <td>5.0</td>\n",
       "      <td>35000</td>\n",
       "      <td>3</td>\n",
       "      <td>10</td>\n",
       "      <td>ID000008I30</td>\n",
       "      <td>28</td>\n",
       "      <td>1</td>\n",
       "      <td>...</td>\n",
       "      <td>0</td>\n",
       "      <td>0</td>\n",
       "      <td>0</td>\n",
       "      <td>0</td>\n",
       "      <td>0</td>\n",
       "      <td>0</td>\n",
       "      <td>1</td>\n",
       "      <td>0</td>\n",
       "      <td>0</td>\n",
       "      <td>1</td>\n",
       "    </tr>\n",
       "    <tr>\n",
       "      <td>4</td>\n",
       "      <td>0.0</td>\n",
       "      <td>25000.0</td>\n",
       "      <td>500000.0</td>\n",
       "      <td>2.0</td>\n",
       "      <td>100000</td>\n",
       "      <td>3</td>\n",
       "      <td>17</td>\n",
       "      <td>ID000009J40</td>\n",
       "      <td>31</td>\n",
       "      <td>1</td>\n",
       "      <td>...</td>\n",
       "      <td>0</td>\n",
       "      <td>0</td>\n",
       "      <td>0</td>\n",
       "      <td>0</td>\n",
       "      <td>0</td>\n",
       "      <td>0</td>\n",
       "      <td>1</td>\n",
       "      <td>0</td>\n",
       "      <td>0</td>\n",
       "      <td>1</td>\n",
       "    </tr>\n",
       "  </tbody>\n",
       "</table>\n",
       "<p>5 rows × 56 columns</p>\n",
       "</div>"
      ],
      "text/plain": [
       "   Disbursed  Existing_EMI  Loan_Amount_Applied  Loan_Tenure_Applied  \\\n",
       "0        0.0           0.0             300000.0                  5.0   \n",
       "1        0.0           0.0             200000.0                  2.0   \n",
       "2        0.0           0.0             600000.0                  4.0   \n",
       "3        0.0           0.0            1000000.0                  5.0   \n",
       "4        0.0       25000.0             500000.0                  2.0   \n",
       "\n",
       "   Monthly_Income  Var4 Var5           id  Age  EMI_Loan_Submitted_Missing  \\\n",
       "0           20000     1    0  ID000002C20   37                           1   \n",
       "1           35000     3   13  ID000004E40   30                           0   \n",
       "2           22500     1    0  ID000007H20   34                           1   \n",
       "3           35000     3   10  ID000008I30   28                           1   \n",
       "4          100000     3   17  ID000009J40   31                           1   \n",
       "\n",
       "   ...  Var2_4  Var2_5  Var2_6  Var2_7  Mobile_Verified_0  Mobile_Verified_1  \\\n",
       "0  ...       0       0       1       0                  0                  1   \n",
       "1  ...       0       0       1       0                  0                  0   \n",
       "2  ...       0       0       0       0                  0                  0   \n",
       "3  ...       0       0       0       0                  0                  0   \n",
       "4  ...       0       0       0       0                  0                  0   \n",
       "\n",
       "   Mobile_Verified_2  Source_0  Source_1  Source_2  \n",
       "0                  0         1         0         0  \n",
       "1                  1         1         0         0  \n",
       "2                  1         0         0         1  \n",
       "3                  1         0         0         1  \n",
       "4                  1         0         0         1  \n",
       "\n",
       "[5 rows x 56 columns]"
      ]
     },
     "execution_count": 105,
     "metadata": {},
     "output_type": "execute_result"
    }
   ],
   "source": [
    "train.head()"
   ]
  },
  {
   "cell_type": "markdown",
   "metadata": {},
   "source": [
    "## cross-validation function "
   ]
  },
  {
   "cell_type": "markdown",
   "metadata": {},
   "source": [
    "Before proceeding further, lets define a function which will help us create GBM models and perform cross-validation."
   ]
  },
  {
   "cell_type": "code",
   "execution_count": 103,
   "metadata": {},
   "outputs": [],
   "source": [
    "def modelfit(alg, dtrain, predictors, performCV=True, printFeatureImportance=True, cv_folds=5):\n",
    "    #Fit the algorithm on the data\n",
    "    alg.fit(dtrain[predictors], dtrain['Disbursed'])\n",
    "        \n",
    "    #Predict training set:\n",
    "    dtrain_predictions = alg.predict(dtrain[predictors])\n",
    "    dtrain_predprob = alg.predict_proba(dtrain[predictors])[:,1]\n",
    "    \n",
    "    #Perform cross-validation:\n",
    "    if performCV:\n",
    "        cv_score = cross_val_score(alg, dtrain[predictors], dtrain['Disbursed'], cv=cv_folds, scoring='roc_auc')\n",
    "    \n",
    "    #Print model report:\n",
    "    print(\"\\nModel Report\")\n",
    "    print(\"Accuracy : %.4g\" % metrics.accuracy_score(dtrain['Disbursed'].values, dtrain_predictions))\n",
    "    print(\"AUC Score (Train): %f\" % metrics.roc_auc_score(dtrain['Disbursed'], dtrain_predprob))\n",
    "    \n",
    "    if performCV:\n",
    "        print(\"CV Score : Mean - %.7g | Std - %.7g | Min - %.7g | Max - %.7g\" % (np.mean(cv_score),np.std(cv_score),np.min(cv_score),np.max(cv_score)))\n",
    "        \n",
    "    #Print Feature Importance:\n",
    "    if printFeatureImportance:\n",
    "        feat_imp = pd.Series(alg.feature_importances_, predictors).sort_values(ascending=False)\n",
    "        feat_imp.plot(kind='bar', title='Feature Importances')\n",
    "        plt.ylabel('Feature Importance Score')"
   ]
  },
  {
   "cell_type": "markdown",
   "metadata": {},
   "source": [
    "Lets start by creating a baseline model. In this case, the evaluation metric is AUC so using any constant value will give 0.5 as result. Typically, a good baseline can be a GBM model with default parameters, i.e. without any tuning. Lets find out what it gives:"
   ]
  },
  {
   "cell_type": "code",
   "execution_count": 104,
   "metadata": {},
   "outputs": [
    {
     "name": "stdout",
     "output_type": "stream",
     "text": [
      "\n",
      "Model Report\n",
      "Accuracy : 0.9856\n",
      "AUC Score (Train): 0.862264\n",
      "CV Score : Mean - 0.8318042 | Std - 0.008830137 | Min - 0.8205207 | Max - 0.8438459\n"
     ]
    },
    {
     "data": {
      "image/png": "[encoded data removed]",
      "text/plain": [
       "<Figure size 864x288 with 1 Axes>"
      ]
     },
     "metadata": {
      "needs_background": "light"
     },
     "output_type": "display_data"
    }
   ],
   "source": [
    "#Choose all predictors except target & IDcols\n",
    "predictors = [x for x in train.columns if x not in [target, IDcol]]\n",
    "gbm0 = GradientBoostingClassifier(random_state=10)\n",
    "modelfit(gbm0, train, predictors)"
   ]
  },
  {
   "cell_type": "markdown",
   "metadata": {},
   "source": [
    "So, the mean CV score is 0.8318 and we should expect our model to do better than this."
   ]
  },
  {
   "cell_type": "markdown",
   "metadata": {},
   "source": [
    "## General Approach for Parameter Tuning"
   ]
  },
  {
   "cell_type": "markdown",
   "metadata": {},
   "source": [
    "Keeping all this in mind, we can take the following approach:\n",
    "\n",
    "1. Choose a relatively high learning rate. Generally the default value of 0.1 works but somewhere between 0.05 to 0.2 should work for different problems\n",
    "2. Determine the optimum number of trees for this learning rate. This should range around 40-70. Remember to choose a value on which your system can work fairly fast. This is because it will be used for testing various scenarios and determining the tree parameters.\n",
    "3. Tune tree-specific parameters for decided learning rate and number of trees. Note that we can choose different parameters to define a tree and I’ll take up an example here.\n",
    "4. Lower the learning rate and increase the estimators proportionally to get more robust models."
   ]
  },
  {
   "cell_type": "markdown",
   "metadata": {},
   "source": [
    "## Fix learning rate and tune number of estimators"
   ]
  },
  {
   "cell_type": "markdown",
   "metadata": {},
   "source": [
    "In order to decide on boosting parameters, we need to set some initial values of other parameters. Lets take the following values:\n",
    "\n",
    "1. min_samples_split = 500 : This should be ~0.5-1% of total values. Since this is imbalanced class problem, we’ll take a small value from the range.\n",
    "2. min_samples_leaf = 50 : Can be selected based on intuition. This is just used for preventing overfitting and again a small value because of imbalanced classes.\n",
    "3. max_depth = 8 : Should be chosen (5-8) based on the number of observations and predictors. This has 87K rows and 49 columns so lets take 8 here.\n",
    "4. max_features = ‘sqrt’ : Its a general thumb-rule to start with square root.\n",
    "5. subsample = 0.8 : This is a commonly used used start value"
   ]
  },
  {
   "cell_type": "markdown",
   "metadata": {},
   "source": [
    "Please note that all the above are just initial estimates and will be tuned later. Lets take the default learning rate of 0.1 here and check the optimum number of trees for that. For this purpose, we can do a grid search and test out values from 20 to 80 in steps of 10."
   ]
  },
  {
   "cell_type": "code",
   "execution_count": 114,
   "metadata": {},
   "outputs": [
    {
     "data": {
      "text/plain": [
       "GridSearchCV(cv=5, error_score='raise-deprecating',\n",
       "             estimator=GradientBoostingClassifier(criterion='friedman_mse',\n",
       "                                                  init=None, learning_rate=0.1,\n",
       "                                                  loss='deviance', max_depth=8,\n",
       "                                                  max_features='sqrt',\n",
       "                                                  max_leaf_nodes=None,\n",
       "                                                  min_impurity_decrease=0.0,\n",
       "                                                  min_impurity_split=None,\n",
       "                                                  min_samples_leaf=50,\n",
       "                                                  min_samples_split=500,\n",
       "                                                  min_weight_fraction_leaf=0.0,\n",
       "                                                  n_estimators=100,\n",
       "                                                  n_iter_no_change=None,\n",
       "                                                  presort='auto',\n",
       "                                                  random_state=10,\n",
       "                                                  subsample=0.8, tol=0.0001,\n",
       "                                                  validation_fraction=0.1,\n",
       "                                                  verbose=0, warm_start=False),\n",
       "             iid=False, n_jobs=4,\n",
       "             param_grid={'n_estimators': range(20, 101, 10)},\n",
       "             pre_dispatch='2*n_jobs', refit=True, return_train_score=False,\n",
       "             scoring='roc_auc', verbose=0)"
      ]
     },
     "execution_count": 114,
     "metadata": {},
     "output_type": "execute_result"
    }
   ],
   "source": [
    "#Choose all predictors except target & IDcols\n",
    "predictors = [x for x in train.columns if x not in [target, IDcol]]\n",
    "param_test1 = {'n_estimators':range(20,101,10)}\n",
    "gsearch1 = GridSearchCV(estimator = GradientBoostingClassifier(learning_rate=0.1, min_samples_split=500,min_samples_leaf=50,max_depth=8,max_features='sqrt',subsample=0.8,random_state=10), \n",
    "param_grid = param_test1, scoring='roc_auc',n_jobs=4,iid=False, cv=5)\n",
    "gsearch1.fit(train[predictors],train[target])"
   ]
  },
  {
   "cell_type": "code",
   "execution_count": 111,
   "metadata": {},
   "outputs": [
    {
     "data": {
      "text/plain": [
       "({'n_estimators': 80}, 0.8383430564151887)"
      ]
     },
     "execution_count": 111,
     "metadata": {},
     "output_type": "execute_result"
    }
   ],
   "source": [
    "gsearch1.best_params_, gsearch1.best_score_"
   ]
  },
  {
   "cell_type": "markdown",
   "metadata": {},
   "source": [
    "As you can see that here we got 80 as the optimal estimators for 0.1 learning rate. Note that 80 is a reasonable value and can be used as it is. But it might not be the same in all cases. Other situations:\n",
    "\n",
    "If the value is around 20, you might want to try lowering the learning rate to 0.05 and re-run grid search\n",
    "\n",
    "If the values are too high ~100, tuning the other parameters will take long time and you can try a higher learning rate"
   ]
  },
  {
   "cell_type": "markdown",
   "metadata": {},
   "source": [
    "## Tuning tree-specific parameters"
   ]
  },
  {
   "cell_type": "markdown",
   "metadata": {},
   "source": [
    "Now lets move onto tuning the tree parameters. I plan to do this in following stages:\n",
    "\n",
    "1. Tune max_depth and min_samples_split\n",
    "2. Tune min_samples_leaf\n",
    "3. Tune max_features"
   ]
  },
  {
   "cell_type": "code",
   "execution_count": 116,
   "metadata": {},
   "outputs": [
    {
     "data": {
      "text/plain": [
       "({'mean_fit_time': array([10.32679996,  9.63920007,  9.46580009, 10.38539996,  9.74920001,\n",
       "         16.22779999, 13.91960001, 14.97839985, 13.80539999, 13.46220002,\n",
       "         23.44280019, 20.69860001, 18.429     , 17.87940006, 17.28660002,\n",
       "         28.43079991, 25.17060003, 22.7434001 , 20.95599995, 20.47799988,\n",
       "         38.22300005, 32.27020001, 28.29479995, 26.85540004, 25.95579996,\n",
       "         48.20800009, 39.0428    , 34.59939995, 29.58240004, 24.50360017]),\n",
       "  'std_fit_time': array([0.61549834, 0.52465551, 0.4151032 , 1.22597374, 0.35703975,\n",
       "         1.03064708, 0.31430483, 0.84878954, 0.23672737, 0.43375359,\n",
       "         0.92152341, 0.45964272, 0.43918776, 0.48966089, 0.46218894,\n",
       "         1.34999403, 0.31097808, 0.73914449, 0.25411809, 1.00060717,\n",
       "         1.60678809, 1.28469625, 0.39051721, 0.8613781 , 1.40729114,\n",
       "         1.66815865, 2.1454047 , 1.55280612, 1.45768671, 3.70066095]),\n",
       "  'mean_score_time': array([0.17479997, 0.18859997, 0.179     , 0.21080008, 0.1756    ,\n",
       "         0.19280014, 0.18479991, 0.21680007, 0.18299994, 0.1902    ,\n",
       "         0.21659989, 0.21899996, 0.20139999, 0.19819994, 0.19860005,\n",
       "         0.25660009, 0.25900011, 0.2282001 , 0.21199985, 0.22340002,\n",
       "         0.24920001, 0.26479998, 0.23320007, 0.27559996, 0.28319993,\n",
       "         0.29699993, 0.27339993, 0.24919996, 0.23899994, 0.20719991]),\n",
       "  'std_score_time': array([0.01339248, 0.0262114 , 0.01753861, 0.06176861, 0.00900228,\n",
       "         0.01151358, 0.01032275, 0.03064245, 0.00334663, 0.01847592,\n",
       "         0.01380721, 0.03298483, 0.00598659, 0.00305938, 0.00508325,\n",
       "         0.04265958, 0.03937006, 0.0174401 , 0.00477494, 0.020568  ,\n",
       "         0.00560005, 0.0161417 , 0.00487448, 0.04616745, 0.06415728,\n",
       "         0.0382309 , 0.03417365, 0.00667525, 0.0032864 , 0.02976838]),\n",
       "  'param_max_depth': masked_array(data=[5, 5, 5, 5, 5, 7, 7, 7, 7, 7, 9, 9, 9, 9, 9, 11, 11,\n",
       "                     11, 11, 11, 13, 13, 13, 13, 13, 15, 15, 15, 15, 15],\n",
       "               mask=[False, False, False, False, False, False, False, False,\n",
       "                     False, False, False, False, False, False, False, False,\n",
       "                     False, False, False, False, False, False, False, False,\n",
       "                     False, False, False, False, False, False],\n",
       "         fill_value='?',\n",
       "              dtype=object),\n",
       "  'param_min_samples_split': masked_array(data=[200, 400, 600, 800, 1000, 200, 400, 600, 800, 1000,\n",
       "                     200, 400, 600, 800, 1000, 200, 400, 600, 800, 1000,\n",
       "                     200, 400, 600, 800, 1000, 200, 400, 600, 800, 1000],\n",
       "               mask=[False, False, False, False, False, False, False, False,\n",
       "                     False, False, False, False, False, False, False, False,\n",
       "                     False, False, False, False, False, False, False, False,\n",
       "                     False, False, False, False, False, False],\n",
       "         fill_value='?',\n",
       "              dtype=object),\n",
       "  'params': [{'max_depth': 5, 'min_samples_split': 200},\n",
       "   {'max_depth': 5, 'min_samples_split': 400},\n",
       "   {'max_depth': 5, 'min_samples_split': 600},\n",
       "   {'max_depth': 5, 'min_samples_split': 800},\n",
       "   {'max_depth': 5, 'min_samples_split': 1000},\n",
       "   {'max_depth': 7, 'min_samples_split': 200},\n",
       "   {'max_depth': 7, 'min_samples_split': 400},\n",
       "   {'max_depth': 7, 'min_samples_split': 600},\n",
       "   {'max_depth': 7, 'min_samples_split': 800},\n",
       "   {'max_depth': 7, 'min_samples_split': 1000},\n",
       "   {'max_depth': 9, 'min_samples_split': 200},\n",
       "   {'max_depth': 9, 'min_samples_split': 400},\n",
       "   {'max_depth': 9, 'min_samples_split': 600},\n",
       "   {'max_depth': 9, 'min_samples_split': 800},\n",
       "   {'max_depth': 9, 'min_samples_split': 1000},\n",
       "   {'max_depth': 11, 'min_samples_split': 200},\n",
       "   {'max_depth': 11, 'min_samples_split': 400},\n",
       "   {'max_depth': 11, 'min_samples_split': 600},\n",
       "   {'max_depth': 11, 'min_samples_split': 800},\n",
       "   {'max_depth': 11, 'min_samples_split': 1000},\n",
       "   {'max_depth': 13, 'min_samples_split': 200},\n",
       "   {'max_depth': 13, 'min_samples_split': 400},\n",
       "   {'max_depth': 13, 'min_samples_split': 600},\n",
       "   {'max_depth': 13, 'min_samples_split': 800},\n",
       "   {'max_depth': 13, 'min_samples_split': 1000},\n",
       "   {'max_depth': 15, 'min_samples_split': 200},\n",
       "   {'max_depth': 15, 'min_samples_split': 400},\n",
       "   {'max_depth': 15, 'min_samples_split': 600},\n",
       "   {'max_depth': 15, 'min_samples_split': 800},\n",
       "   {'max_depth': 15, 'min_samples_split': 1000}],\n",
       "  'split0_test_score': array([0.82484239, 0.82119945, 0.82417881, 0.82034094, 0.82135025,\n",
       "         0.81948414, 0.81965449, 0.82535266, 0.81981776, 0.82377568,\n",
       "         0.81775716, 0.82245675, 0.82260458, 0.82252101, 0.82294118,\n",
       "         0.8119242 , 0.81466507, 0.81589482, 0.82308969, 0.81652238,\n",
       "         0.80764363, 0.80646487, 0.8103263 , 0.82008243, 0.8147962 ,\n",
       "         0.7969613 , 0.81185137, 0.80930978, 0.81054022, 0.80915692]),\n",
       "  'split1_test_score': array([0.82562797, 0.82697147, 0.82591391, 0.82629235, 0.8266183 ,\n",
       "         0.82958521, 0.83351901, 0.8321715 , 0.83392694, 0.83538455,\n",
       "         0.83193517, 0.83031167, 0.82873549, 0.83312514, 0.84185651,\n",
       "         0.82213583, 0.83065192, 0.8277774 , 0.83221574, 0.83484377,\n",
       "         0.81813583, 0.82219208, 0.83276614, 0.82938718, 0.83116824,\n",
       "         0.81466381, 0.81674052, 0.83094872, 0.82681164, 0.82720277]),\n",
       "  'split2_test_score': array([0.84540824, 0.85004442, 0.84962686, 0.84686285, 0.84774142,\n",
       "         0.85328682, 0.85148165, 0.85207449, 0.84744517, 0.85118643,\n",
       "         0.83627502, 0.84657369, 0.84836136, 0.84723513, 0.84579927,\n",
       "         0.83438787, 0.83628943, 0.84725663, 0.84791762, 0.84793683,\n",
       "         0.82453902, 0.83752451, 0.84801961, 0.84297844, 0.84458546,\n",
       "         0.82551444, 0.83799032, 0.83980018, 0.84008466, 0.84471775]),\n",
       "  'split3_test_score': array([0.84356265, 0.85233844, 0.84571149, 0.84661809, 0.84535163,\n",
       "         0.84786813, 0.84652086, 0.84660443, 0.84420742, 0.84847949,\n",
       "         0.8393862 , 0.84107519, 0.84537975, 0.84248169, 0.84305184,\n",
       "         0.83014861, 0.84290537, 0.83814809, 0.83807818, 0.84716861,\n",
       "         0.82788062, 0.8341181 , 0.82954459, 0.83281319, 0.83710088,\n",
       "         0.81417938, 0.82560127, 0.82954723, 0.83621368, 0.83426882]),\n",
       "  'split4_test_score': array([0.83270919, 0.83361005, 0.83830351, 0.83436375, 0.83486124,\n",
       "         0.83377672, 0.83492288, 0.8353484 , 0.83476034, 0.83408585,\n",
       "         0.82913721, 0.82472314, 0.83117206, 0.83223316, 0.82804339,\n",
       "         0.81922054, 0.82476171, 0.82452754, 0.82710569, 0.82807645,\n",
       "         0.81703095, 0.82008501, 0.82590902, 0.81862834, 0.82572501,\n",
       "         0.8064314 , 0.81439449, 0.81631616, 0.82195468, 0.81718339]),\n",
       "  'mean_test_score': array([0.83443009, 0.83683277, 0.83674692, 0.83489559, 0.83518457,\n",
       "         0.8368002 , 0.83721978, 0.83831029, 0.83603153, 0.8385824 ,\n",
       "         0.83089815, 0.83302809, 0.83525065, 0.83551923, 0.83633844,\n",
       "         0.82356341, 0.8298547 , 0.83072089, 0.83368138, 0.83490961,\n",
       "         0.81904601, 0.82407691, 0.82931313, 0.82877792, 0.83067516,\n",
       "         0.81155007, 0.8213156 , 0.82518442, 0.82712097, 0.82650593]),\n",
       "  'std_test_score': array([0.00867509, 0.01238552, 0.0102371 , 0.01064677, 0.0102559 ,\n",
       "         0.01229106, 0.01111235, 0.00972218, 0.00965451, 0.01006477,\n",
       "         0.00745412, 0.00934177, 0.00993473, 0.00861652, 0.00909198,\n",
       "         0.0079612 , 0.0096853 , 0.01091264, 0.00871291, 0.01187247,\n",
       "         0.00697319, 0.01105744, 0.01211608, 0.00890994, 0.01011607,\n",
       "         0.00949363, 0.00953749, 0.01092275, 0.01051135, 0.01249253]),\n",
       "  'rank_test_score': array([14,  4,  6, 13, 11,  5,  3,  2,  8,  1, 17, 16, 10,  9,  7, 27, 20,\n",
       "         18, 15, 12, 29, 26, 21, 22, 19, 30, 28, 25, 23, 24])},\n",
       " {'max_depth': 7, 'min_samples_split': 1000},\n",
       " 0.8385824007176806)"
      ]
     },
     "execution_count": 116,
     "metadata": {},
     "output_type": "execute_result"
    }
   ],
   "source": [
    "param_test2 = {'max_depth':range(5,16,2), 'min_samples_split':range(200,1001,200)}\n",
    "gsearch2 = GridSearchCV(estimator = GradientBoostingClassifier(learning_rate=0.1, n_estimators=80, max_features='sqrt', subsample=0.8, random_state=10), \n",
    "param_grid = param_test2, scoring='roc_auc',n_jobs=4,iid=False, cv=5)\n",
    "gsearch2.fit(train[predictors],train[target])\n",
    "gsearch2.cv_results_, gsearch2.best_params_, gsearch2.best_score_"
   ]
  },
  {
   "cell_type": "markdown",
   "metadata": {},
   "source": [
    "Here, we have run 30 combinations and the ideal values are 7 for max_depth and 1000 for min_samples_split. Note that, 1000 is an extreme value which we tested. There is a fare chance that the optimum value lies above that. So we should check for some higher values as well."
   ]
  },
  {
   "cell_type": "markdown",
   "metadata": {},
   "source": [
    "We set 7 for max_depth, tune min_samples_split and min_samples_leaf together. "
   ]
  },
  {
   "cell_type": "code",
   "execution_count": null,
   "metadata": {},
   "outputs": [],
   "source": [
    "param_test3 = {'min_samples_split':range(1000,2100,200), 'min_samples_leaf':range(30,71,10)}\n",
    "gsearch3 = GridSearchCV(estimator = GradientBoostingClassifier(learning_rate=0.1, n_estimators=80,max_depth=7,max_features='sqrt', subsample=0.8, random_state=10), \n",
    "param_grid = param_test3, scoring='roc_auc',n_jobs=4,iid=False, cv=5)\n",
    "gsearch3.fit(train[predictors],train[target])"
   ]
  },
  {
   "cell_type": "code",
   "execution_count": 118,
   "metadata": {},
   "outputs": [
    {
     "data": {
      "text/plain": [
       "({'mean_fit_time': array([13.80760002, 12.55039997, 12.90120006, 12.99040003, 13.18339996,\n",
       "         12.21199994, 12.9052001 , 12.86300006, 13.91319995, 12.31519995,\n",
       "         11.75619998, 11.88859997, 12.64699998, 12.22519999, 12.37160006,\n",
       "         12.3638    , 11.99020004, 11.69020009, 12.80360003, 13.21280007,\n",
       "         12.90179996, 12.5776    , 11.93399992, 11.77220006, 12.75840006,\n",
       "         12.76079998, 12.38020005, 11.90580001, 12.06999993, 10.68500013]),\n",
       "  'std_fit_time': array([0.60056664, 0.35874595, 1.19619231, 0.37965012, 0.75974064,\n",
       "         0.19746789, 0.39823982, 0.86216374, 1.7475211 , 0.4071479 ,\n",
       "         0.51471677, 0.72928743, 0.58782987, 0.34873676, 0.65156465,\n",
       "         0.99899246, 0.34038118, 0.32352578, 0.66539087, 1.54987406,\n",
       "         0.47878281, 0.80315485, 0.69299162, 0.45164302, 0.42718552,\n",
       "         0.94712728, 0.75503365, 0.15480239, 0.53577354, 1.30970914]),\n",
       "  'mean_score_time': array([0.19260006, 0.19500008, 0.24659991, 0.21699996, 0.20799999,\n",
       "         0.18879995, 0.19219995, 0.20099993, 0.20640011, 0.18360004,\n",
       "         0.18780003, 0.18800006, 0.18959994, 0.1941999 , 0.19560003,\n",
       "         0.18899994, 0.18399997, 0.17939992, 0.2066    , 0.23799996,\n",
       "         0.19739995, 0.18840003, 0.18799996, 0.18939991, 0.18260007,\n",
       "         0.20480003, 0.18760004, 0.19579997, 0.20039997, 0.15579996]),\n",
       "  'std_score_time': array([0.01557692, 0.02178984, 0.07198509, 0.05429545, 0.02543223,\n",
       "         0.00655446, 0.01116059, 0.02820643, 0.03125764, 0.00736482,\n",
       "         0.01523687, 0.00723877, 0.00436343, 0.01648528, 0.01127121,\n",
       "         0.01000008, 0.0080499 , 0.00287052, 0.02701544, 0.05175716,\n",
       "         0.0194689 , 0.0066512 , 0.01280617, 0.0079397 , 0.00344091,\n",
       "         0.03812289, 0.00811419, 0.01479731, 0.02907646, 0.02920548]),\n",
       "  'param_min_samples_leaf': masked_array(data=[30, 30, 30, 30, 30, 30, 40, 40, 40, 40, 40, 40, 50, 50,\n",
       "                     50, 50, 50, 50, 60, 60, 60, 60, 60, 60, 70, 70, 70, 70,\n",
       "                     70, 70],\n",
       "               mask=[False, False, False, False, False, False, False, False,\n",
       "                     False, False, False, False, False, False, False, False,\n",
       "                     False, False, False, False, False, False, False, False,\n",
       "                     False, False, False, False, False, False],\n",
       "         fill_value='?',\n",
       "              dtype=object),\n",
       "  'param_min_samples_split': masked_array(data=[1000, 1200, 1400, 1600, 1800, 2000, 1000, 1200, 1400,\n",
       "                     1600, 1800, 2000, 1000, 1200, 1400, 1600, 1800, 2000,\n",
       "                     1000, 1200, 1400, 1600, 1800, 2000, 1000, 1200, 1400,\n",
       "                     1600, 1800, 2000],\n",
       "               mask=[False, False, False, False, False, False, False, False,\n",
       "                     False, False, False, False, False, False, False, False,\n",
       "                     False, False, False, False, False, False, False, False,\n",
       "                     False, False, False, False, False, False],\n",
       "         fill_value='?',\n",
       "              dtype=object),\n",
       "  'params': [{'min_samples_leaf': 30, 'min_samples_split': 1000},\n",
       "   {'min_samples_leaf': 30, 'min_samples_split': 1200},\n",
       "   {'min_samples_leaf': 30, 'min_samples_split': 1400},\n",
       "   {'min_samples_leaf': 30, 'min_samples_split': 1600},\n",
       "   {'min_samples_leaf': 30, 'min_samples_split': 1800},\n",
       "   {'min_samples_leaf': 30, 'min_samples_split': 2000},\n",
       "   {'min_samples_leaf': 40, 'min_samples_split': 1000},\n",
       "   {'min_samples_leaf': 40, 'min_samples_split': 1200},\n",
       "   {'min_samples_leaf': 40, 'min_samples_split': 1400},\n",
       "   {'min_samples_leaf': 40, 'min_samples_split': 1600},\n",
       "   {'min_samples_leaf': 40, 'min_samples_split': 1800},\n",
       "   {'min_samples_leaf': 40, 'min_samples_split': 2000},\n",
       "   {'min_samples_leaf': 50, 'min_samples_split': 1000},\n",
       "   {'min_samples_leaf': 50, 'min_samples_split': 1200},\n",
       "   {'min_samples_leaf': 50, 'min_samples_split': 1400},\n",
       "   {'min_samples_leaf': 50, 'min_samples_split': 1600},\n",
       "   {'min_samples_leaf': 50, 'min_samples_split': 1800},\n",
       "   {'min_samples_leaf': 50, 'min_samples_split': 2000},\n",
       "   {'min_samples_leaf': 60, 'min_samples_split': 1000},\n",
       "   {'min_samples_leaf': 60, 'min_samples_split': 1200},\n",
       "   {'min_samples_leaf': 60, 'min_samples_split': 1400},\n",
       "   {'min_samples_leaf': 60, 'min_samples_split': 1600},\n",
       "   {'min_samples_leaf': 60, 'min_samples_split': 1800},\n",
       "   {'min_samples_leaf': 60, 'min_samples_split': 2000},\n",
       "   {'min_samples_leaf': 70, 'min_samples_split': 1000},\n",
       "   {'min_samples_leaf': 70, 'min_samples_split': 1200},\n",
       "   {'min_samples_leaf': 70, 'min_samples_split': 1400},\n",
       "   {'min_samples_leaf': 70, 'min_samples_split': 1600},\n",
       "   {'min_samples_leaf': 70, 'min_samples_split': 1800},\n",
       "   {'min_samples_leaf': 70, 'min_samples_split': 2000}],\n",
       "  'split0_test_score': array([0.81860184, 0.8214623 , 0.82235306, 0.82087578, 0.81690448,\n",
       "         0.82163585, 0.82469948, 0.82463511, 0.82301389, 0.82453381,\n",
       "         0.82047619, 0.82141371, 0.81614291, 0.81943692, 0.82090459,\n",
       "         0.82386097, 0.82069342, 0.81722369, 0.82145407, 0.81697479,\n",
       "         0.82357857, 0.82249711, 0.81829132, 0.82164294, 0.82291694,\n",
       "         0.82203499, 0.81956188, 0.82048648, 0.8197846 , 0.82295192]),\n",
       "  'split1_test_score': array([0.83390625, 0.83157011, 0.83002332, 0.83123798, 0.83016361,\n",
       "         0.83401441, 0.83620648, 0.83188384, 0.82960899, 0.83248488,\n",
       "         0.83022775, 0.83315463, 0.82897628, 0.83166707, 0.83462928,\n",
       "         0.82765758, 0.83175819, 0.83098599, 0.83016567, 0.82904019,\n",
       "         0.83145361, 0.83451198, 0.82904556, 0.82934054, 0.83446807,\n",
       "         0.83058766, 0.82973544, 0.83433396, 0.8260431 , 0.83198228]),\n",
       "  'split2_test_score': array([0.8501639 , 0.85102064, 0.85308844, 0.85153459, 0.84717842,\n",
       "         0.85367065, 0.85179105, 0.85036434, 0.85091179, 0.85350006,\n",
       "         0.85142025, 0.85317225, 0.85526281, 0.85115876, 0.84903562,\n",
       "         0.8520235 , 0.8513824 , 0.85312572, 0.85238698, 0.84738057,\n",
       "         0.84990813, 0.85057964, 0.84951401, 0.84993408, 0.85314984,\n",
       "         0.8512986 , 0.84882535, 0.85440893, 0.85203448, 0.84866173]),\n",
       "  'split3_test_score': array([0.84692136, 0.85341275, 0.85279289, 0.85134254, 0.85161895,\n",
       "         0.84977821, 0.84882213, 0.8512382 , 0.85021268, 0.84751401,\n",
       "         0.84833853, 0.84659226, 0.84826989, 0.84930046, 0.85335524,\n",
       "         0.85054316, 0.84873685, 0.84733609, 0.84981838, 0.85127619,\n",
       "         0.85122213, 0.84860932, 0.84815223, 0.84750873, 0.84780924,\n",
       "         0.85276821, 0.85207742, 0.84835208, 0.847722  , 0.85247745]),\n",
       "  'split4_test_score': array([0.83261426, 0.83522707, 0.83420947, 0.83153697, 0.83215212,\n",
       "         0.83343856, 0.83347242, 0.83716585, 0.83699114, 0.83147832,\n",
       "         0.83425149, 0.83408309, 0.83475782, 0.83366813, 0.83737097,\n",
       "         0.83614974, 0.83561173, 0.83167621, 0.83314516, 0.83457324,\n",
       "         0.83584039, 0.83545584, 0.83383664, 0.83300133, 0.83547811,\n",
       "         0.83437741, 0.83524372, 0.83467632, 0.83316433, 0.83464004]),\n",
       "  'mean_test_score': array([0.83644152, 0.83853857, 0.83849344, 0.83730557, 0.83560352,\n",
       "         0.83850754, 0.83899831, 0.83905747, 0.8381477 , 0.83790222,\n",
       "         0.83694284, 0.83768319, 0.83668194, 0.83704627, 0.83905914,\n",
       "         0.83804699, 0.83763652, 0.83606954, 0.83739405, 0.835849  ,\n",
       "         0.83840057, 0.83833078, 0.83576795, 0.83628552, 0.83876444,\n",
       "         0.83821337, 0.83708876, 0.83845155, 0.8357497 , 0.83814269]),\n",
       "  'std_test_score': array([0.01129124, 0.01206787, 0.01239432, 0.01216168, 0.01250305,\n",
       "         0.01172591, 0.01002944, 0.01038517, 0.01106133, 0.01081672,\n",
       "         0.01151472, 0.01111258, 0.01388856, 0.01183017, 0.01145399,\n",
       "         0.01152631, 0.01129504, 0.01279186, 0.01186202, 0.0124515 ,\n",
       "         0.01068946, 0.01028821, 0.01180405, 0.01082282, 0.01066912,\n",
       "         0.01198059, 0.01205881, 0.01188789, 0.01236379, 0.01092808]),\n",
       "  'rank_test_score': array([24,  5,  7, 19, 30,  6,  3,  2, 12, 15, 22, 16, 23, 21,  1, 14, 17,\n",
       "         26, 18, 27,  9, 10, 28, 25,  4, 11, 20,  8, 29, 13])},\n",
       " {'min_samples_leaf': 50, 'min_samples_split': 1400},\n",
       " 0.8390591392234613)"
      ]
     },
     "execution_count": 118,
     "metadata": {},
     "output_type": "execute_result"
    }
   ],
   "source": [
    "gsearch3.cv_results_, gsearch3.best_params_, gsearch3.best_score_"
   ]
  },
  {
   "cell_type": "markdown",
   "metadata": {},
   "source": [
    "Here we get the optimum values as 1400 for min_samples_split and 50 for min_samples_leaf. Also, we can see the CV score increasing to 0.8391 now. Then we will tune max_feature."
   ]
  },
  {
   "cell_type": "code",
   "execution_count": 119,
   "metadata": {},
   "outputs": [
    {
     "data": {
      "text/plain": [
       "({'mean_fit_time': array([12.85480003, 14.58779998, 17.53400002, 18.99259992, 19.58200002,\n",
       "         20.90659995, 21.09200001]),\n",
       "  'std_fit_time': array([0.94219447, 0.8334302 , 1.51354962, 0.48613445, 0.96106289,\n",
       "         0.5046285 , 3.14968418]),\n",
       "  'mean_score_time': array([0.20379992, 0.18640003, 0.1993999 , 0.18139992, 0.17579994,\n",
       "         0.17660007, 0.15220003]),\n",
       "  'std_score_time': array([0.03794415, 0.01295525, 0.04039113, 0.00682928, 0.00331068,\n",
       "         0.00307239, 0.02933537]),\n",
       "  'param_max_features': masked_array(data=[7, 9, 11, 13, 15, 17, 19],\n",
       "               mask=[False, False, False, False, False, False, False],\n",
       "         fill_value='?',\n",
       "              dtype=object),\n",
       "  'params': [{'max_features': 7},\n",
       "   {'max_features': 9},\n",
       "   {'max_features': 11},\n",
       "   {'max_features': 13},\n",
       "   {'max_features': 15},\n",
       "   {'max_features': 17},\n",
       "   {'max_features': 19}],\n",
       "  'split0_test_score': array([0.82090459, 0.819424  , 0.82831727, 0.82576002, 0.82346379,\n",
       "         0.82768547, 0.82365278]),\n",
       "  'split1_test_score': array([0.83462928, 0.8284029 , 0.83356806, 0.83152484, 0.83000503,\n",
       "         0.83022089, 0.82777625]),\n",
       "  'split2_test_score': array([0.84903562, 0.84807986, 0.84655173, 0.84555882, 0.84560067,\n",
       "         0.85105437, 0.8495738 ]),\n",
       "  'split3_test_score': array([0.85335524, 0.85214261, 0.85204321, 0.84876405, 0.84629186,\n",
       "         0.84810299, 0.84848661]),\n",
       "  'split4_test_score': array([0.83737097, 0.83498372, 0.83195515, 0.83708538, 0.83282937,\n",
       "         0.83490911, 0.83050847]),\n",
       "  'mean_test_score': array([0.83905914, 0.83660662, 0.83848708, 0.83773862, 0.83563814,\n",
       "         0.83839457, 0.83599958]),\n",
       "  'std_test_score': array([0.01145399, 0.01215055, 0.00915527, 0.00854682, 0.00895086,\n",
       "         0.00946748, 0.0108665 ]),\n",
       "  'rank_test_score': array([1, 5, 2, 4, 7, 3, 6])},\n",
       " {'max_features': 7},\n",
       " 0.8390591392234613)"
      ]
     },
     "execution_count": 119,
     "metadata": {},
     "output_type": "execute_result"
    }
   ],
   "source": [
    "param_test4 = {'max_features':range(7,20,2)}\n",
    "gsearch4 = GridSearchCV(estimator = GradientBoostingClassifier(learning_rate=0.1, n_estimators=80,max_depth=7, min_samples_split=1400, min_samples_leaf=50, subsample=0.8, random_state=10),\n",
    "param_grid = param_test4, scoring='roc_auc',n_jobs=4,iid=False, cv=5)\n",
    "gsearch4.fit(train[predictors],train[target])\n",
    "gsearch4.cv_results_, gsearch4.best_params_, gsearch4.best_score_"
   ]
  },
  {
   "cell_type": "markdown",
   "metadata": {},
   "source": [
    "So we set max_feature=7"
   ]
  },
  {
   "cell_type": "markdown",
   "metadata": {},
   "source": [
    "## Tuning subsample"
   ]
  },
  {
   "cell_type": "code",
   "execution_count": null,
   "metadata": {},
   "outputs": [],
   "source": [
    "param_test5 = {'subsample':[0.6,0.7,0.75,0.8,0.85,0.9]}\n",
    "gsearch5 = GridSearchCV(estimator = GradientBoostingClassifier(learning_rate=0.1, n_estimators=80,max_depth=7, min_samples_split=1400, min_samples_leaf=50, random_state=10,max_features=7),\n",
    "param_grid = param_test5, scoring='roc_auc',n_jobs=4,iid=False, cv=5)\n",
    "gsearch5.fit(train[predictors],train[target])"
   ]
  },
  {
   "cell_type": "code",
   "execution_count": 121,
   "metadata": {},
   "outputs": [
    {
     "data": {
      "text/plain": [
       "({'subsample': 0.85}, 0.839596404849057)"
      ]
     },
     "execution_count": 121,
     "metadata": {},
     "output_type": "execute_result"
    }
   ],
   "source": [
    "gsearch5.best_params_, gsearch5.best_score_"
   ]
  },
  {
   "cell_type": "markdown",
   "metadata": {},
   "source": [
    "So we set subsample=0.85"
   ]
  },
  {
   "cell_type": "markdown",
   "metadata": {},
   "source": [
    "## Make models with lower learning rate  "
   ]
  },
  {
   "cell_type": "markdown",
   "metadata": {},
   "source": [
    "When tuning learning rate, we have to change n_estimators accordingly.\n",
    "\n",
    "1.decrease the learning rate to half, i.e. 0.05 with twice (160) the number of trees.\n",
    "\n",
    "2.reduce to one-tenth of the original value, i.e. 0.01 for 800 trees.\n",
    "\n",
    "3.one-twentieth of the original value, i.e. 0.005 for 1600 trees."
   ]
  },
  {
   "cell_type": "code",
   "execution_count": 122,
   "metadata": {},
   "outputs": [
    {
     "name": "stdout",
     "output_type": "stream",
     "text": [
      "\n",
      "Model Report\n",
      "Accuracy : 0.9854\n",
      "AUC Score (Train): 0.887052\n",
      "CV Score : Mean - 0.8393402 | Std - 0.01290091 | Min - 0.8204098 | Max - 0.8538807\n"
     ]
    },
    {
     "data": {
      "image/png": "[encoded data removed]",
      "text/plain": [
       "<Figure size 864x288 with 1 Axes>"
      ]
     },
     "metadata": {
      "needs_background": "light"
     },
     "output_type": "display_data"
    }
   ],
   "source": [
    "predictors = [x for x in train.columns if x not in [target, IDcol]]\n",
    "gbm_tuned_2 = GradientBoostingClassifier(learning_rate=0.05, n_estimators=160,max_depth=7, min_samples_split=1400, min_samples_leaf=50, random_state=10,max_features=7, subsample=0.85)\n",
    "modelfit(gbm_tuned_2, train, predictors)"
   ]
  },
  {
   "cell_type": "code",
   "execution_count": 123,
   "metadata": {},
   "outputs": [
    {
     "name": "stdout",
     "output_type": "stream",
     "text": [
      "\n",
      "Model Report\n",
      "Accuracy : 0.9854\n",
      "AUC Score (Train): 0.886972\n",
      "CV Score : Mean - 0.8397297 | Std - 0.01130201 | Min - 0.8238598 | Max - 0.8527524\n"
     ]
    },
    {
     "data": {
      "image/png": "[encoded data removed]",
      "text/plain": [
       "<Figure size 864x288 with 1 Axes>"
      ]
     },
     "metadata": {
      "needs_background": "light"
     },
     "output_type": "display_data"
    }
   ],
   "source": [
    "predictors = [x for x in train.columns if x not in [target, IDcol]]\n",
    "gbm_tuned_2 = GradientBoostingClassifier(learning_rate=0.01, n_estimators=800,max_depth=7, min_samples_split=1400, min_samples_leaf=50, random_state=10,max_features=7, subsample=0.85)\n",
    "modelfit(gbm_tuned_2, train, predictors)"
   ]
  },
  {
   "cell_type": "code",
   "execution_count": 124,
   "metadata": {},
   "outputs": [
    {
     "name": "stdout",
     "output_type": "stream",
     "text": [
      "\n",
      "Model Report\n",
      "Accuracy : 0.9854\n",
      "AUC Score (Train): 0.887039\n",
      "CV Score : Mean - 0.8407537 | Std - 0.0107099 | Min - 0.8249161 | Max - 0.8527739\n"
     ]
    },
    {
     "data": {
      "image/png": "[encoded data removed]",
      "text/plain": [
       "<Figure size 864x288 with 1 Axes>"
      ]
     },
     "metadata": {
      "needs_background": "light"
     },
     "output_type": "display_data"
    }
   ],
   "source": [
    "predictors = [x for x in train.columns if x not in [target, IDcol]]\n",
    "gbm_tuned_2 = GradientBoostingClassifier(learning_rate=0.005, n_estimators=1600,max_depth=7, min_samples_split=1400, min_samples_leaf=50, random_state=10,max_features=7, subsample=0.85)\n",
    "modelfit(gbm_tuned_2, train, predictors)"
   ]
  },
  {
   "cell_type": "markdown",
   "metadata": {},
   "source": [
    "Therefore, now you can clearly see that the cv score improved from 0.8318 to 0.8407, which is a significant jump."
   ]
  }
 ],
 "metadata": {
  "kernelspec": {
   "display_name": "Python 3",
   "language": "python",
   "name": "python3"
  },
  "language_info": {
   "codemirror_mode": {
    "name": "ipython",
    "version": 3
   },
   "file_extension": ".py",
   "mimetype": "text/x-python",
   "name": "python",
   "nbconvert_exporter": "python",
   "pygments_lexer": "ipython3",
   "version": "3.6.7"
  },
  "toc": {
   "base_numbering": 1,
   "nav_menu": {},
   "number_sections": true,
   "sideBar": true,
   "skip_h1_title": false,
   "title_cell": "Table of Contents",
   "title_sidebar": "Contents",
   "toc_cell": false,
   "toc_position": {},
   "toc_section_display": true,
   "toc_window_display": false
  }
 },
 "nbformat": 4,
 "nbformat_minor": 1
}
